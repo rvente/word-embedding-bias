{
 "metadata": {
  "language_info": {
   "codemirror_mode": {
    "name": "ipython",
    "version": 3
   },
   "file_extension": ".py",
   "mimetype": "text/x-python",
   "name": "python",
   "nbconvert_exporter": "python",
   "pygments_lexer": "ipython3",
   "version": "3.8.5"
  },
  "orig_nbformat": 2,
  "kernelspec": {
   "name": "python385jvsc74a57bd031f2aee4e71d21fbe5cf8b01ff0e069b9275f58929596ceb00d14d90e3e16cd6",
   "display_name": "Python 3.8.5 64-bit"
  }
 },
 "nbformat": 4,
 "nbformat_minor": 2,
 "cells": [
  {
   "cell_type": "code",
   "execution_count": 38,
   "metadata": {
    "tags": []
   },
   "outputs": [],
   "source": [
    "import pandas as pd\n",
    "from training import RESULTS_DIR\n",
    "from pathlib import Path\n",
    "from IPython.display import display\n",
    "import matplotlib.pyplot as plt\n",
    "\n",
    "import seaborn as sns\n",
    "import logging\n",
    "logging.disable(sys.maxsize) \n",
    "import matplotlib\n",
    "\n",
    "matplotlib.use(\"pgf\")\n",
    "matplotlib.rcParams.update({\n",
    "    \"pgf.texsystem\": \"pdflatex\",\n",
    "    'font.family': 'serif',\n",
    "    'text.usetex': True,\n",
    "    'pgf.rcfonts': False,\n",
    "})"
   ]
  },
  {
   "cell_type": "code",
   "execution_count": 39,
   "metadata": {},
   "outputs": [],
   "source": [
    "def load_latest():\n",
    "    l = max(filter(lambda x: not x.name.endswith(\".csv\"), Path(RESULTS_DIR).iterdir()))\n",
    "    print(l)\n",
    "    return pd.read_pickle(l)"
   ]
  },
  {
   "cell_type": "code",
   "execution_count": 40,
   "metadata": {},
   "outputs": [
    {
     "output_type": "stream",
     "name": "stdout",
     "text": [
      "['architecture', 'window_size', 'dataset', 'n_epochs', 'vector_dims', 'dset_fname', 'gender_results', 'analogy', 'word_sim']\n"
     ]
    },
    {
     "output_type": "execute_result",
     "data": {
      "text/plain": [
       "                                 architecture window_size  \\\n",
       "0   <class 'gensim.models.word2vec.Word2Vec'>           1   \n",
       "1   <class 'gensim.models.word2vec.Word2Vec'>           5   \n",
       "2   <class 'gensim.models.word2vec.Word2Vec'>          10   \n",
       "3   <class 'gensim.models.word2vec.Word2Vec'>          15   \n",
       "4   <class 'gensim.models.word2vec.Word2Vec'>          20   \n",
       "5   <class 'gensim.models.word2vec.Word2Vec'>          25   \n",
       "6   <class 'gensim.models.word2vec.Word2Vec'>          30   \n",
       "7   <class 'gensim.models.fasttext.FastText'>           1   \n",
       "8   <class 'gensim.models.fasttext.FastText'>           5   \n",
       "9   <class 'gensim.models.fasttext.FastText'>          10   \n",
       "10  <class 'gensim.models.fasttext.FastText'>          15   \n",
       "11  <class 'gensim.models.fasttext.FastText'>          20   \n",
       "12  <class 'gensim.models.fasttext.FastText'>          25   \n",
       "13  <class 'gensim.models.fasttext.FastText'>          30   \n",
       "\n",
       "                                              dataset n_epochs vector_dims  \\\n",
       "0   [<__main__.WikiPartitionCorpus object at 0x7fb...        1         300   \n",
       "1   [<__main__.WikiPartitionCorpus object at 0x7fb...        1         300   \n",
       "2   [<__main__.WikiPartitionCorpus object at 0x7fb...        1         300   \n",
       "3   [<__main__.WikiPartitionCorpus object at 0x7fb...        1         300   \n",
       "4   [<__main__.WikiPartitionCorpus object at 0x7fb...        1         300   \n",
       "5   [<__main__.WikiPartitionCorpus object at 0x7fb...        1         300   \n",
       "6   [<__main__.WikiPartitionCorpus object at 0x7fb...        1         300   \n",
       "7   [<__main__.WikiPartitionCorpus object at 0x7fb...        1         300   \n",
       "8   [<__main__.WikiPartitionCorpus object at 0x7fb...        1         300   \n",
       "9   [<__main__.WikiPartitionCorpus object at 0x7fb...        1         300   \n",
       "10  [<__main__.WikiPartitionCorpus object at 0x7fb...        1         300   \n",
       "11  [<__main__.WikiPartitionCorpus object at 0x7fb...        1         300   \n",
       "12  [<__main__.WikiPartitionCorpus object at 0x7fb...        1         300   \n",
       "13  [<__main__.WikiPartitionCorpus object at 0x7fb...        1         300   \n",
       "\n",
       "                                          dset_fname  \\\n",
       "0   /media/vente/Data/text_0/normalized_deaccent.txt   \n",
       "1   /media/vente/Data/text_0/normalized_deaccent.txt   \n",
       "2   /media/vente/Data/text_0/normalized_deaccent.txt   \n",
       "3   /media/vente/Data/text_0/normalized_deaccent.txt   \n",
       "4   /media/vente/Data/text_0/normalized_deaccent.txt   \n",
       "5   /media/vente/Data/text_0/normalized_deaccent.txt   \n",
       "6   /media/vente/Data/text_0/normalized_deaccent.txt   \n",
       "7   /media/vente/Data/text_0/normalized_deaccent.txt   \n",
       "8   /media/vente/Data/text_0/normalized_deaccent.txt   \n",
       "9   /media/vente/Data/text_0/normalized_deaccent.txt   \n",
       "10  /media/vente/Data/text_0/normalized_deaccent.txt   \n",
       "11  /media/vente/Data/text_0/normalized_deaccent.txt   \n",
       "12  /media/vente/Data/text_0/normalized_deaccent.txt   \n",
       "13  /media/vente/Data/text_0/normalized_deaccent.txt   \n",
       "\n",
       "                                       gender_results  \\\n",
       "0                                             quer...   \n",
       "1                                             quer...   \n",
       "2                                             quer...   \n",
       "3                                             quer...   \n",
       "4                                             quer...   \n",
       "5                                             quer...   \n",
       "6                                             quer...   \n",
       "7                                             quer...   \n",
       "8                                             quer...   \n",
       "9                                             quer...   \n",
       "10                                            quer...   \n",
       "11                                            quer...   \n",
       "12                                            quer...   \n",
       "13                                            quer...   \n",
       "\n",
       "                                              analogy  \\\n",
       "0   (0.13866148178469095, [{'section': 'capital-co...   \n",
       "1   (0.20584322554236595, [{'section': 'capital-co...   \n",
       "2   (0.2371571837904216, [{'section': 'capital-com...   \n",
       "3   (0.24309250920998773, [{'section': 'capital-co...   \n",
       "4   (0.2513814981580025, [{'section': 'capital-com...   \n",
       "5   (0.2520466639377814, [{'section': 'capital-com...   \n",
       "6   (0.2403295128939828, [{'section': 'capital-com...   \n",
       "7   (0.3009107654523127, [{'section': 'capital-com...   \n",
       "8   (0.301320098239869, [{'section': 'capital-comm...   \n",
       "9   (0.29876176831764223, [{'section': 'capital-co...   \n",
       "10  (0.2874027834629554, [{'section': 'capital-com...   \n",
       "11  (0.2783974621367172, [{'section': 'capital-com...   \n",
       "12  (0.27885796152271797, [{'section': 'capital-co...   \n",
       "13  (0.2642754809660254, [{'section': 'capital-com...   \n",
       "\n",
       "                                             word_sim  \n",
       "0   ((0.4675111485342864, 1.4368968440147206e-20),...  \n",
       "1   ((0.590679944127646, 1.4131935100838e-34), (0....  \n",
       "2   ((0.6217139613801962, 3.903031488175409e-39), ...  \n",
       "3   ((0.6443230741232554, 8.593618715033783e-43), ...  \n",
       "4   ((0.6586781851259556, 2.8006405873123957e-45),...  \n",
       "5   ((0.656473116809429, 6.888414948882806e-45), (...  \n",
       "6   ((0.651560614977111, 4.97953126241738e-44), (0...  \n",
       "7   ((0.41568206413622444, 3.515083572409985e-16),...  \n",
       "8   ((0.5117808040112435, 5.870672882585985e-25), ...  \n",
       "9   ((0.5505554839333378, 2.2938659068326707e-29),...  \n",
       "10  ((0.5694626103071243, 9.867091308861317e-32), ...  \n",
       "11  ((0.5809496092284004, 3.0220169732410192e-33),...  \n",
       "12  ((0.5919648131300744, 9.358027227560639e-35), ...  \n",
       "13  ((0.5863101464943155, 5.663479299224524e-34), ...  "
      ],
      "text/html": "<div>\n<style scoped>\n    .dataframe tbody tr th:only-of-type {\n        vertical-align: middle;\n    }\n\n    .dataframe tbody tr th {\n        vertical-align: top;\n    }\n\n    .dataframe thead th {\n        text-align: right;\n    }\n</style>\n<table border=\"1\" class=\"dataframe\">\n  <thead>\n    <tr style=\"text-align: right;\">\n      <th></th>\n      <th>architecture</th>\n      <th>window_size</th>\n      <th>dataset</th>\n      <th>n_epochs</th>\n      <th>vector_dims</th>\n      <th>dset_fname</th>\n      <th>gender_results</th>\n      <th>analogy</th>\n      <th>word_sim</th>\n    </tr>\n  </thead>\n  <tbody>\n    <tr>\n      <th>0</th>\n      <td>&lt;class 'gensim.models.word2vec.Word2Vec'&gt;</td>\n      <td>1</td>\n      <td>[&lt;__main__.WikiPartitionCorpus object at 0x7fb...</td>\n      <td>1</td>\n      <td>300</td>\n      <td>/media/vente/Data/text_0/normalized_deaccent.txt</td>\n      <td>quer...</td>\n      <td>(0.13866148178469095, [{'section': 'capital-co...</td>\n      <td>((0.4675111485342864, 1.4368968440147206e-20),...</td>\n    </tr>\n    <tr>\n      <th>1</th>\n      <td>&lt;class 'gensim.models.word2vec.Word2Vec'&gt;</td>\n      <td>5</td>\n      <td>[&lt;__main__.WikiPartitionCorpus object at 0x7fb...</td>\n      <td>1</td>\n      <td>300</td>\n      <td>/media/vente/Data/text_0/normalized_deaccent.txt</td>\n      <td>quer...</td>\n      <td>(0.20584322554236595, [{'section': 'capital-co...</td>\n      <td>((0.590679944127646, 1.4131935100838e-34), (0....</td>\n    </tr>\n    <tr>\n      <th>2</th>\n      <td>&lt;class 'gensim.models.word2vec.Word2Vec'&gt;</td>\n      <td>10</td>\n      <td>[&lt;__main__.WikiPartitionCorpus object at 0x7fb...</td>\n      <td>1</td>\n      <td>300</td>\n      <td>/media/vente/Data/text_0/normalized_deaccent.txt</td>\n      <td>quer...</td>\n      <td>(0.2371571837904216, [{'section': 'capital-com...</td>\n      <td>((0.6217139613801962, 3.903031488175409e-39), ...</td>\n    </tr>\n    <tr>\n      <th>3</th>\n      <td>&lt;class 'gensim.models.word2vec.Word2Vec'&gt;</td>\n      <td>15</td>\n      <td>[&lt;__main__.WikiPartitionCorpus object at 0x7fb...</td>\n      <td>1</td>\n      <td>300</td>\n      <td>/media/vente/Data/text_0/normalized_deaccent.txt</td>\n      <td>quer...</td>\n      <td>(0.24309250920998773, [{'section': 'capital-co...</td>\n      <td>((0.6443230741232554, 8.593618715033783e-43), ...</td>\n    </tr>\n    <tr>\n      <th>4</th>\n      <td>&lt;class 'gensim.models.word2vec.Word2Vec'&gt;</td>\n      <td>20</td>\n      <td>[&lt;__main__.WikiPartitionCorpus object at 0x7fb...</td>\n      <td>1</td>\n      <td>300</td>\n      <td>/media/vente/Data/text_0/normalized_deaccent.txt</td>\n      <td>quer...</td>\n      <td>(0.2513814981580025, [{'section': 'capital-com...</td>\n      <td>((0.6586781851259556, 2.8006405873123957e-45),...</td>\n    </tr>\n    <tr>\n      <th>5</th>\n      <td>&lt;class 'gensim.models.word2vec.Word2Vec'&gt;</td>\n      <td>25</td>\n      <td>[&lt;__main__.WikiPartitionCorpus object at 0x7fb...</td>\n      <td>1</td>\n      <td>300</td>\n      <td>/media/vente/Data/text_0/normalized_deaccent.txt</td>\n      <td>quer...</td>\n      <td>(0.2520466639377814, [{'section': 'capital-com...</td>\n      <td>((0.656473116809429, 6.888414948882806e-45), (...</td>\n    </tr>\n    <tr>\n      <th>6</th>\n      <td>&lt;class 'gensim.models.word2vec.Word2Vec'&gt;</td>\n      <td>30</td>\n      <td>[&lt;__main__.WikiPartitionCorpus object at 0x7fb...</td>\n      <td>1</td>\n      <td>300</td>\n      <td>/media/vente/Data/text_0/normalized_deaccent.txt</td>\n      <td>quer...</td>\n      <td>(0.2403295128939828, [{'section': 'capital-com...</td>\n      <td>((0.651560614977111, 4.97953126241738e-44), (0...</td>\n    </tr>\n    <tr>\n      <th>7</th>\n      <td>&lt;class 'gensim.models.fasttext.FastText'&gt;</td>\n      <td>1</td>\n      <td>[&lt;__main__.WikiPartitionCorpus object at 0x7fb...</td>\n      <td>1</td>\n      <td>300</td>\n      <td>/media/vente/Data/text_0/normalized_deaccent.txt</td>\n      <td>quer...</td>\n      <td>(0.3009107654523127, [{'section': 'capital-com...</td>\n      <td>((0.41568206413622444, 3.515083572409985e-16),...</td>\n    </tr>\n    <tr>\n      <th>8</th>\n      <td>&lt;class 'gensim.models.fasttext.FastText'&gt;</td>\n      <td>5</td>\n      <td>[&lt;__main__.WikiPartitionCorpus object at 0x7fb...</td>\n      <td>1</td>\n      <td>300</td>\n      <td>/media/vente/Data/text_0/normalized_deaccent.txt</td>\n      <td>quer...</td>\n      <td>(0.301320098239869, [{'section': 'capital-comm...</td>\n      <td>((0.5117808040112435, 5.870672882585985e-25), ...</td>\n    </tr>\n    <tr>\n      <th>9</th>\n      <td>&lt;class 'gensim.models.fasttext.FastText'&gt;</td>\n      <td>10</td>\n      <td>[&lt;__main__.WikiPartitionCorpus object at 0x7fb...</td>\n      <td>1</td>\n      <td>300</td>\n      <td>/media/vente/Data/text_0/normalized_deaccent.txt</td>\n      <td>quer...</td>\n      <td>(0.29876176831764223, [{'section': 'capital-co...</td>\n      <td>((0.5505554839333378, 2.2938659068326707e-29),...</td>\n    </tr>\n    <tr>\n      <th>10</th>\n      <td>&lt;class 'gensim.models.fasttext.FastText'&gt;</td>\n      <td>15</td>\n      <td>[&lt;__main__.WikiPartitionCorpus object at 0x7fb...</td>\n      <td>1</td>\n      <td>300</td>\n      <td>/media/vente/Data/text_0/normalized_deaccent.txt</td>\n      <td>quer...</td>\n      <td>(0.2874027834629554, [{'section': 'capital-com...</td>\n      <td>((0.5694626103071243, 9.867091308861317e-32), ...</td>\n    </tr>\n    <tr>\n      <th>11</th>\n      <td>&lt;class 'gensim.models.fasttext.FastText'&gt;</td>\n      <td>20</td>\n      <td>[&lt;__main__.WikiPartitionCorpus object at 0x7fb...</td>\n      <td>1</td>\n      <td>300</td>\n      <td>/media/vente/Data/text_0/normalized_deaccent.txt</td>\n      <td>quer...</td>\n      <td>(0.2783974621367172, [{'section': 'capital-com...</td>\n      <td>((0.5809496092284004, 3.0220169732410192e-33),...</td>\n    </tr>\n    <tr>\n      <th>12</th>\n      <td>&lt;class 'gensim.models.fasttext.FastText'&gt;</td>\n      <td>25</td>\n      <td>[&lt;__main__.WikiPartitionCorpus object at 0x7fb...</td>\n      <td>1</td>\n      <td>300</td>\n      <td>/media/vente/Data/text_0/normalized_deaccent.txt</td>\n      <td>quer...</td>\n      <td>(0.27885796152271797, [{'section': 'capital-co...</td>\n      <td>((0.5919648131300744, 9.358027227560639e-35), ...</td>\n    </tr>\n    <tr>\n      <th>13</th>\n      <td>&lt;class 'gensim.models.fasttext.FastText'&gt;</td>\n      <td>30</td>\n      <td>[&lt;__main__.WikiPartitionCorpus object at 0x7fb...</td>\n      <td>1</td>\n      <td>300</td>\n      <td>/media/vente/Data/text_0/normalized_deaccent.txt</td>\n      <td>quer...</td>\n      <td>(0.2642754809660254, [{'section': 'capital-com...</td>\n      <td>((0.5863101464943155, 5.663479299224524e-34), ...</td>\n    </tr>\n  </tbody>\n</table>\n</div>"
     },
     "metadata": {},
     "execution_count": 40
    }
   ],
   "source": [
    "df = pd.read_pickle(RESULTS_DIR/\"2021-05-25__07-09-32\")\n",
    "#df = load_latest()\n",
    "print(list(df))\n",
    "df"
   ]
  },
  {
   "cell_type": "code",
   "execution_count": 41,
   "metadata": {},
   "outputs": [
    {
     "output_type": "display_data",
     "data": {
      "text/plain": "                                          query_name   result      weat  \\\n0  male_terms and female_terms wrt career and family  0.07927  0.054456   \n1   male_terms and female_terms wrt science and arts      NaN       NaN   \n2      male_terms and female_terms wrt math and arts  0.33659  0.147983   \n\n   effect_size   p_value  \n0      0.07927  0.441456  \n1          NaN       NaN  \n2      0.33659  0.246075  ",
      "text/html": "<div>\n<style scoped>\n    .dataframe tbody tr th:only-of-type {\n        vertical-align: middle;\n    }\n\n    .dataframe tbody tr th {\n        vertical-align: top;\n    }\n\n    .dataframe thead th {\n        text-align: right;\n    }\n</style>\n<table border=\"1\" class=\"dataframe\">\n  <thead>\n    <tr style=\"text-align: right;\">\n      <th></th>\n      <th>query_name</th>\n      <th>result</th>\n      <th>weat</th>\n      <th>effect_size</th>\n      <th>p_value</th>\n    </tr>\n  </thead>\n  <tbody>\n    <tr>\n      <th>0</th>\n      <td>male_terms and female_terms wrt career and family</td>\n      <td>0.07927</td>\n      <td>0.054456</td>\n      <td>0.07927</td>\n      <td>0.441456</td>\n    </tr>\n    <tr>\n      <th>1</th>\n      <td>male_terms and female_terms wrt science and arts</td>\n      <td>NaN</td>\n      <td>NaN</td>\n      <td>NaN</td>\n      <td>NaN</td>\n    </tr>\n    <tr>\n      <th>2</th>\n      <td>male_terms and female_terms wrt math and arts</td>\n      <td>0.33659</td>\n      <td>0.147983</td>\n      <td>0.33659</td>\n      <td>0.246075</td>\n    </tr>\n  </tbody>\n</table>\n</div>"
     },
     "metadata": {}
    },
    {
     "output_type": "display_data",
     "data": {
      "text/plain": "                                          query_name    result      weat  \\\n0  male_terms and female_terms wrt career and family  0.466160  0.492859   \n1   male_terms and female_terms wrt science and arts       NaN       NaN   \n2      male_terms and female_terms wrt math and arts  1.030927  0.751406   \n\n   effect_size   p_value  \n0     0.466160  0.178282  \n1          NaN       NaN  \n2     1.030927  0.019998  ",
      "text/html": "<div>\n<style scoped>\n    .dataframe tbody tr th:only-of-type {\n        vertical-align: middle;\n    }\n\n    .dataframe tbody tr th {\n        vertical-align: top;\n    }\n\n    .dataframe thead th {\n        text-align: right;\n    }\n</style>\n<table border=\"1\" class=\"dataframe\">\n  <thead>\n    <tr style=\"text-align: right;\">\n      <th></th>\n      <th>query_name</th>\n      <th>result</th>\n      <th>weat</th>\n      <th>effect_size</th>\n      <th>p_value</th>\n    </tr>\n  </thead>\n  <tbody>\n    <tr>\n      <th>0</th>\n      <td>male_terms and female_terms wrt career and family</td>\n      <td>0.466160</td>\n      <td>0.492859</td>\n      <td>0.466160</td>\n      <td>0.178282</td>\n    </tr>\n    <tr>\n      <th>1</th>\n      <td>male_terms and female_terms wrt science and arts</td>\n      <td>NaN</td>\n      <td>NaN</td>\n      <td>NaN</td>\n      <td>NaN</td>\n    </tr>\n    <tr>\n      <th>2</th>\n      <td>male_terms and female_terms wrt math and arts</td>\n      <td>1.030927</td>\n      <td>0.751406</td>\n      <td>1.030927</td>\n      <td>0.019998</td>\n    </tr>\n  </tbody>\n</table>\n</div>"
     },
     "metadata": {}
    },
    {
     "output_type": "display_data",
     "data": {
      "text/plain": "                                          query_name    result      weat  \\\n0  male_terms and female_terms wrt career and family  0.639348  0.777284   \n1   male_terms and female_terms wrt science and arts       NaN       NaN   \n2      male_terms and female_terms wrt math and arts  1.177810  0.825030   \n\n   effect_size   p_value  \n0     0.639348  0.105189  \n1          NaN       NaN  \n2     1.177810  0.010999  ",
      "text/html": "<div>\n<style scoped>\n    .dataframe tbody tr th:only-of-type {\n        vertical-align: middle;\n    }\n\n    .dataframe tbody tr th {\n        vertical-align: top;\n    }\n\n    .dataframe thead th {\n        text-align: right;\n    }\n</style>\n<table border=\"1\" class=\"dataframe\">\n  <thead>\n    <tr style=\"text-align: right;\">\n      <th></th>\n      <th>query_name</th>\n      <th>result</th>\n      <th>weat</th>\n      <th>effect_size</th>\n      <th>p_value</th>\n    </tr>\n  </thead>\n  <tbody>\n    <tr>\n      <th>0</th>\n      <td>male_terms and female_terms wrt career and family</td>\n      <td>0.639348</td>\n      <td>0.777284</td>\n      <td>0.639348</td>\n      <td>0.105189</td>\n    </tr>\n    <tr>\n      <th>1</th>\n      <td>male_terms and female_terms wrt science and arts</td>\n      <td>NaN</td>\n      <td>NaN</td>\n      <td>NaN</td>\n      <td>NaN</td>\n    </tr>\n    <tr>\n      <th>2</th>\n      <td>male_terms and female_terms wrt math and arts</td>\n      <td>1.177810</td>\n      <td>0.825030</td>\n      <td>1.177810</td>\n      <td>0.010999</td>\n    </tr>\n  </tbody>\n</table>\n</div>"
     },
     "metadata": {}
    },
    {
     "output_type": "display_data",
     "data": {
      "text/plain": "                                          query_name    result      weat  \\\n0  male_terms and female_terms wrt career and family  0.699041  0.755124   \n1   male_terms and female_terms wrt science and arts       NaN       NaN   \n2      male_terms and female_terms wrt math and arts  1.329348  1.020125   \n\n   effect_size   p_value  \n0     0.699041  0.081492  \n1          NaN       NaN  \n2     1.329348  0.005199  ",
      "text/html": "<div>\n<style scoped>\n    .dataframe tbody tr th:only-of-type {\n        vertical-align: middle;\n    }\n\n    .dataframe tbody tr th {\n        vertical-align: top;\n    }\n\n    .dataframe thead th {\n        text-align: right;\n    }\n</style>\n<table border=\"1\" class=\"dataframe\">\n  <thead>\n    <tr style=\"text-align: right;\">\n      <th></th>\n      <th>query_name</th>\n      <th>result</th>\n      <th>weat</th>\n      <th>effect_size</th>\n      <th>p_value</th>\n    </tr>\n  </thead>\n  <tbody>\n    <tr>\n      <th>0</th>\n      <td>male_terms and female_terms wrt career and family</td>\n      <td>0.699041</td>\n      <td>0.755124</td>\n      <td>0.699041</td>\n      <td>0.081492</td>\n    </tr>\n    <tr>\n      <th>1</th>\n      <td>male_terms and female_terms wrt science and arts</td>\n      <td>NaN</td>\n      <td>NaN</td>\n      <td>NaN</td>\n      <td>NaN</td>\n    </tr>\n    <tr>\n      <th>2</th>\n      <td>male_terms and female_terms wrt math and arts</td>\n      <td>1.329348</td>\n      <td>1.020125</td>\n      <td>1.329348</td>\n      <td>0.005199</td>\n    </tr>\n  </tbody>\n</table>\n</div>"
     },
     "metadata": {}
    },
    {
     "output_type": "display_data",
     "data": {
      "text/plain": "                                          query_name    result      weat  \\\n0  male_terms and female_terms wrt career and family  0.575604  0.750437   \n1   male_terms and female_terms wrt science and arts       NaN       NaN   \n2      male_terms and female_terms wrt math and arts  1.240698  1.049377   \n\n   effect_size   p_value  \n0     0.575604  0.121988  \n1          NaN       NaN  \n2     1.240698  0.005299  ",
      "text/html": "<div>\n<style scoped>\n    .dataframe tbody tr th:only-of-type {\n        vertical-align: middle;\n    }\n\n    .dataframe tbody tr th {\n        vertical-align: top;\n    }\n\n    .dataframe thead th {\n        text-align: right;\n    }\n</style>\n<table border=\"1\" class=\"dataframe\">\n  <thead>\n    <tr style=\"text-align: right;\">\n      <th></th>\n      <th>query_name</th>\n      <th>result</th>\n      <th>weat</th>\n      <th>effect_size</th>\n      <th>p_value</th>\n    </tr>\n  </thead>\n  <tbody>\n    <tr>\n      <th>0</th>\n      <td>male_terms and female_terms wrt career and family</td>\n      <td>0.575604</td>\n      <td>0.750437</td>\n      <td>0.575604</td>\n      <td>0.121988</td>\n    </tr>\n    <tr>\n      <th>1</th>\n      <td>male_terms and female_terms wrt science and arts</td>\n      <td>NaN</td>\n      <td>NaN</td>\n      <td>NaN</td>\n      <td>NaN</td>\n    </tr>\n    <tr>\n      <th>2</th>\n      <td>male_terms and female_terms wrt math and arts</td>\n      <td>1.240698</td>\n      <td>1.049377</td>\n      <td>1.240698</td>\n      <td>0.005299</td>\n    </tr>\n  </tbody>\n</table>\n</div>"
     },
     "metadata": {}
    },
    {
     "output_type": "display_data",
     "data": {
      "text/plain": "                                          query_name    result      weat  \\\n0  male_terms and female_terms wrt career and family  0.784279  0.965539   \n1   male_terms and female_terms wrt science and arts       NaN       NaN   \n2      male_terms and female_terms wrt math and arts  1.107756  0.988328   \n\n   effect_size   p_value  \n0     0.784279  0.060894  \n1          NaN       NaN  \n2     1.107756  0.012299  ",
      "text/html": "<div>\n<style scoped>\n    .dataframe tbody tr th:only-of-type {\n        vertical-align: middle;\n    }\n\n    .dataframe tbody tr th {\n        vertical-align: top;\n    }\n\n    .dataframe thead th {\n        text-align: right;\n    }\n</style>\n<table border=\"1\" class=\"dataframe\">\n  <thead>\n    <tr style=\"text-align: right;\">\n      <th></th>\n      <th>query_name</th>\n      <th>result</th>\n      <th>weat</th>\n      <th>effect_size</th>\n      <th>p_value</th>\n    </tr>\n  </thead>\n  <tbody>\n    <tr>\n      <th>0</th>\n      <td>male_terms and female_terms wrt career and family</td>\n      <td>0.784279</td>\n      <td>0.965539</td>\n      <td>0.784279</td>\n      <td>0.060894</td>\n    </tr>\n    <tr>\n      <th>1</th>\n      <td>male_terms and female_terms wrt science and arts</td>\n      <td>NaN</td>\n      <td>NaN</td>\n      <td>NaN</td>\n      <td>NaN</td>\n    </tr>\n    <tr>\n      <th>2</th>\n      <td>male_terms and female_terms wrt math and arts</td>\n      <td>1.107756</td>\n      <td>0.988328</td>\n      <td>1.107756</td>\n      <td>0.012299</td>\n    </tr>\n  </tbody>\n</table>\n</div>"
     },
     "metadata": {}
    },
    {
     "output_type": "display_data",
     "data": {
      "text/plain": "                                          query_name    result      weat  \\\n0  male_terms and female_terms wrt career and family  0.697775  0.803928   \n1   male_terms and female_terms wrt science and arts       NaN       NaN   \n2      male_terms and female_terms wrt math and arts  1.097581  1.001563   \n\n   effect_size   p_value  \n0     0.697775  0.080692  \n1          NaN       NaN  \n2     1.097581  0.015098  ",
      "text/html": "<div>\n<style scoped>\n    .dataframe tbody tr th:only-of-type {\n        vertical-align: middle;\n    }\n\n    .dataframe tbody tr th {\n        vertical-align: top;\n    }\n\n    .dataframe thead th {\n        text-align: right;\n    }\n</style>\n<table border=\"1\" class=\"dataframe\">\n  <thead>\n    <tr style=\"text-align: right;\">\n      <th></th>\n      <th>query_name</th>\n      <th>result</th>\n      <th>weat</th>\n      <th>effect_size</th>\n      <th>p_value</th>\n    </tr>\n  </thead>\n  <tbody>\n    <tr>\n      <th>0</th>\n      <td>male_terms and female_terms wrt career and family</td>\n      <td>0.697775</td>\n      <td>0.803928</td>\n      <td>0.697775</td>\n      <td>0.080692</td>\n    </tr>\n    <tr>\n      <th>1</th>\n      <td>male_terms and female_terms wrt science and arts</td>\n      <td>NaN</td>\n      <td>NaN</td>\n      <td>NaN</td>\n      <td>NaN</td>\n    </tr>\n    <tr>\n      <th>2</th>\n      <td>male_terms and female_terms wrt math and arts</td>\n      <td>1.097581</td>\n      <td>1.001563</td>\n      <td>1.097581</td>\n      <td>0.015098</td>\n    </tr>\n  </tbody>\n</table>\n</div>"
     },
     "metadata": {}
    },
    {
     "output_type": "display_data",
     "data": {
      "text/plain": "                                          query_name    result      weat  \\\n0  male_terms and female_terms wrt career and family  0.305323  0.186166   \n1   male_terms and female_terms wrt science and arts       NaN       NaN   \n2      male_terms and female_terms wrt math and arts  0.227512  0.116170   \n\n   effect_size   p_value  \n0     0.305323  0.276972  \n1          NaN       NaN  \n2     0.227512  0.324768  ",
      "text/html": "<div>\n<style scoped>\n    .dataframe tbody tr th:only-of-type {\n        vertical-align: middle;\n    }\n\n    .dataframe tbody tr th {\n        vertical-align: top;\n    }\n\n    .dataframe thead th {\n        text-align: right;\n    }\n</style>\n<table border=\"1\" class=\"dataframe\">\n  <thead>\n    <tr style=\"text-align: right;\">\n      <th></th>\n      <th>query_name</th>\n      <th>result</th>\n      <th>weat</th>\n      <th>effect_size</th>\n      <th>p_value</th>\n    </tr>\n  </thead>\n  <tbody>\n    <tr>\n      <th>0</th>\n      <td>male_terms and female_terms wrt career and family</td>\n      <td>0.305323</td>\n      <td>0.186166</td>\n      <td>0.305323</td>\n      <td>0.276972</td>\n    </tr>\n    <tr>\n      <th>1</th>\n      <td>male_terms and female_terms wrt science and arts</td>\n      <td>NaN</td>\n      <td>NaN</td>\n      <td>NaN</td>\n      <td>NaN</td>\n    </tr>\n    <tr>\n      <th>2</th>\n      <td>male_terms and female_terms wrt math and arts</td>\n      <td>0.227512</td>\n      <td>0.116170</td>\n      <td>0.227512</td>\n      <td>0.324768</td>\n    </tr>\n  </tbody>\n</table>\n</div>"
     },
     "metadata": {}
    },
    {
     "output_type": "display_data",
     "data": {
      "text/plain": "                                          query_name    result      weat  \\\n0  male_terms and female_terms wrt career and family  0.883010  0.648797   \n1   male_terms and female_terms wrt science and arts       NaN       NaN   \n2      male_terms and female_terms wrt math and arts  0.422673  0.324426   \n\n   effect_size   p_value  \n0     0.883010  0.036796  \n1          NaN       NaN  \n2     0.422673  0.190581  ",
      "text/html": "<div>\n<style scoped>\n    .dataframe tbody tr th:only-of-type {\n        vertical-align: middle;\n    }\n\n    .dataframe tbody tr th {\n        vertical-align: top;\n    }\n\n    .dataframe thead th {\n        text-align: right;\n    }\n</style>\n<table border=\"1\" class=\"dataframe\">\n  <thead>\n    <tr style=\"text-align: right;\">\n      <th></th>\n      <th>query_name</th>\n      <th>result</th>\n      <th>weat</th>\n      <th>effect_size</th>\n      <th>p_value</th>\n    </tr>\n  </thead>\n  <tbody>\n    <tr>\n      <th>0</th>\n      <td>male_terms and female_terms wrt career and family</td>\n      <td>0.883010</td>\n      <td>0.648797</td>\n      <td>0.883010</td>\n      <td>0.036796</td>\n    </tr>\n    <tr>\n      <th>1</th>\n      <td>male_terms and female_terms wrt science and arts</td>\n      <td>NaN</td>\n      <td>NaN</td>\n      <td>NaN</td>\n      <td>NaN</td>\n    </tr>\n    <tr>\n      <th>2</th>\n      <td>male_terms and female_terms wrt math and arts</td>\n      <td>0.422673</td>\n      <td>0.324426</td>\n      <td>0.422673</td>\n      <td>0.190581</td>\n    </tr>\n  </tbody>\n</table>\n</div>"
     },
     "metadata": {}
    },
    {
     "output_type": "display_data",
     "data": {
      "text/plain": "                                          query_name    result      weat  \\\n0  male_terms and female_terms wrt career and family  1.106901  0.860610   \n1   male_terms and female_terms wrt science and arts       NaN       NaN   \n2      male_terms and female_terms wrt math and arts  0.838817  0.744642   \n\n   effect_size   p_value  \n0     1.106901  0.011999  \n1          NaN       NaN  \n2     0.838817  0.045595  ",
      "text/html": "<div>\n<style scoped>\n    .dataframe tbody tr th:only-of-type {\n        vertical-align: middle;\n    }\n\n    .dataframe tbody tr th {\n        vertical-align: top;\n    }\n\n    .dataframe thead th {\n        text-align: right;\n    }\n</style>\n<table border=\"1\" class=\"dataframe\">\n  <thead>\n    <tr style=\"text-align: right;\">\n      <th></th>\n      <th>query_name</th>\n      <th>result</th>\n      <th>weat</th>\n      <th>effect_size</th>\n      <th>p_value</th>\n    </tr>\n  </thead>\n  <tbody>\n    <tr>\n      <th>0</th>\n      <td>male_terms and female_terms wrt career and family</td>\n      <td>1.106901</td>\n      <td>0.860610</td>\n      <td>1.106901</td>\n      <td>0.011999</td>\n    </tr>\n    <tr>\n      <th>1</th>\n      <td>male_terms and female_terms wrt science and arts</td>\n      <td>NaN</td>\n      <td>NaN</td>\n      <td>NaN</td>\n      <td>NaN</td>\n    </tr>\n    <tr>\n      <th>2</th>\n      <td>male_terms and female_terms wrt math and arts</td>\n      <td>0.838817</td>\n      <td>0.744642</td>\n      <td>0.838817</td>\n      <td>0.045595</td>\n    </tr>\n  </tbody>\n</table>\n</div>"
     },
     "metadata": {}
    },
    {
     "output_type": "display_data",
     "data": {
      "text/plain": "                                          query_name    result      weat  \\\n0  male_terms and female_terms wrt career and family  0.940504  0.852649   \n1   male_terms and female_terms wrt science and arts       NaN       NaN   \n2      male_terms and female_terms wrt math and arts  0.864341  0.702021   \n\n   effect_size   p_value  \n0     0.940504  0.028797  \n1          NaN       NaN  \n2     0.864341  0.040796  ",
      "text/html": "<div>\n<style scoped>\n    .dataframe tbody tr th:only-of-type {\n        vertical-align: middle;\n    }\n\n    .dataframe tbody tr th {\n        vertical-align: top;\n    }\n\n    .dataframe thead th {\n        text-align: right;\n    }\n</style>\n<table border=\"1\" class=\"dataframe\">\n  <thead>\n    <tr style=\"text-align: right;\">\n      <th></th>\n      <th>query_name</th>\n      <th>result</th>\n      <th>weat</th>\n      <th>effect_size</th>\n      <th>p_value</th>\n    </tr>\n  </thead>\n  <tbody>\n    <tr>\n      <th>0</th>\n      <td>male_terms and female_terms wrt career and family</td>\n      <td>0.940504</td>\n      <td>0.852649</td>\n      <td>0.940504</td>\n      <td>0.028797</td>\n    </tr>\n    <tr>\n      <th>1</th>\n      <td>male_terms and female_terms wrt science and arts</td>\n      <td>NaN</td>\n      <td>NaN</td>\n      <td>NaN</td>\n      <td>NaN</td>\n    </tr>\n    <tr>\n      <th>2</th>\n      <td>male_terms and female_terms wrt math and arts</td>\n      <td>0.864341</td>\n      <td>0.702021</td>\n      <td>0.864341</td>\n      <td>0.040796</td>\n    </tr>\n  </tbody>\n</table>\n</div>"
     },
     "metadata": {}
    },
    {
     "output_type": "display_data",
     "data": {
      "text/plain": "                                          query_name    result      weat  \\\n0  male_terms and female_terms wrt career and family  0.973355  0.853645   \n1   male_terms and female_terms wrt science and arts       NaN       NaN   \n2      male_terms and female_terms wrt math and arts  0.946593  0.925092   \n\n   effect_size   p_value  \n0     0.973355  0.023498  \n1          NaN       NaN  \n2     0.946593  0.029997  ",
      "text/html": "<div>\n<style scoped>\n    .dataframe tbody tr th:only-of-type {\n        vertical-align: middle;\n    }\n\n    .dataframe tbody tr th {\n        vertical-align: top;\n    }\n\n    .dataframe thead th {\n        text-align: right;\n    }\n</style>\n<table border=\"1\" class=\"dataframe\">\n  <thead>\n    <tr style=\"text-align: right;\">\n      <th></th>\n      <th>query_name</th>\n      <th>result</th>\n      <th>weat</th>\n      <th>effect_size</th>\n      <th>p_value</th>\n    </tr>\n  </thead>\n  <tbody>\n    <tr>\n      <th>0</th>\n      <td>male_terms and female_terms wrt career and family</td>\n      <td>0.973355</td>\n      <td>0.853645</td>\n      <td>0.973355</td>\n      <td>0.023498</td>\n    </tr>\n    <tr>\n      <th>1</th>\n      <td>male_terms and female_terms wrt science and arts</td>\n      <td>NaN</td>\n      <td>NaN</td>\n      <td>NaN</td>\n      <td>NaN</td>\n    </tr>\n    <tr>\n      <th>2</th>\n      <td>male_terms and female_terms wrt math and arts</td>\n      <td>0.946593</td>\n      <td>0.925092</td>\n      <td>0.946593</td>\n      <td>0.029997</td>\n    </tr>\n  </tbody>\n</table>\n</div>"
     },
     "metadata": {}
    },
    {
     "output_type": "display_data",
     "data": {
      "text/plain": "                                          query_name    result      weat  \\\n0  male_terms and female_terms wrt career and family  1.187995  1.183127   \n1   male_terms and female_terms wrt science and arts       NaN       NaN   \n2      male_terms and female_terms wrt math and arts  0.924983  0.846260   \n\n   effect_size   p_value  \n0     1.187995  0.011199  \n1          NaN       NaN  \n2     0.924983  0.032497  ",
      "text/html": "<div>\n<style scoped>\n    .dataframe tbody tr th:only-of-type {\n        vertical-align: middle;\n    }\n\n    .dataframe tbody tr th {\n        vertical-align: top;\n    }\n\n    .dataframe thead th {\n        text-align: right;\n    }\n</style>\n<table border=\"1\" class=\"dataframe\">\n  <thead>\n    <tr style=\"text-align: right;\">\n      <th></th>\n      <th>query_name</th>\n      <th>result</th>\n      <th>weat</th>\n      <th>effect_size</th>\n      <th>p_value</th>\n    </tr>\n  </thead>\n  <tbody>\n    <tr>\n      <th>0</th>\n      <td>male_terms and female_terms wrt career and family</td>\n      <td>1.187995</td>\n      <td>1.183127</td>\n      <td>1.187995</td>\n      <td>0.011199</td>\n    </tr>\n    <tr>\n      <th>1</th>\n      <td>male_terms and female_terms wrt science and arts</td>\n      <td>NaN</td>\n      <td>NaN</td>\n      <td>NaN</td>\n      <td>NaN</td>\n    </tr>\n    <tr>\n      <th>2</th>\n      <td>male_terms and female_terms wrt math and arts</td>\n      <td>0.924983</td>\n      <td>0.846260</td>\n      <td>0.924983</td>\n      <td>0.032497</td>\n    </tr>\n  </tbody>\n</table>\n</div>"
     },
     "metadata": {}
    },
    {
     "output_type": "display_data",
     "data": {
      "text/plain": "                                          query_name    result      weat  \\\n0  male_terms and female_terms wrt career and family  0.890706  0.825509   \n1   male_terms and female_terms wrt science and arts       NaN       NaN   \n2      male_terms and female_terms wrt math and arts  0.883364  0.798511   \n\n   effect_size   p_value  \n0     0.890706  0.034597  \n1          NaN       NaN  \n2     0.883364  0.040196  ",
      "text/html": "<div>\n<style scoped>\n    .dataframe tbody tr th:only-of-type {\n        vertical-align: middle;\n    }\n\n    .dataframe tbody tr th {\n        vertical-align: top;\n    }\n\n    .dataframe thead th {\n        text-align: right;\n    }\n</style>\n<table border=\"1\" class=\"dataframe\">\n  <thead>\n    <tr style=\"text-align: right;\">\n      <th></th>\n      <th>query_name</th>\n      <th>result</th>\n      <th>weat</th>\n      <th>effect_size</th>\n      <th>p_value</th>\n    </tr>\n  </thead>\n  <tbody>\n    <tr>\n      <th>0</th>\n      <td>male_terms and female_terms wrt career and family</td>\n      <td>0.890706</td>\n      <td>0.825509</td>\n      <td>0.890706</td>\n      <td>0.034597</td>\n    </tr>\n    <tr>\n      <th>1</th>\n      <td>male_terms and female_terms wrt science and arts</td>\n      <td>NaN</td>\n      <td>NaN</td>\n      <td>NaN</td>\n      <td>NaN</td>\n    </tr>\n    <tr>\n      <th>2</th>\n      <td>male_terms and female_terms wrt math and arts</td>\n      <td>0.883364</td>\n      <td>0.798511</td>\n      <td>0.883364</td>\n      <td>0.040196</td>\n    </tr>\n  </tbody>\n</table>\n</div>"
     },
     "metadata": {}
    },
    {
     "output_type": "execute_result",
     "data": {
      "text/plain": [
       "                                 architecture window_size  \\\n",
       "0   <class 'gensim.models.word2vec.Word2Vec'>           1   \n",
       "1   <class 'gensim.models.word2vec.Word2Vec'>           5   \n",
       "2   <class 'gensim.models.word2vec.Word2Vec'>          10   \n",
       "3   <class 'gensim.models.word2vec.Word2Vec'>          15   \n",
       "4   <class 'gensim.models.word2vec.Word2Vec'>          20   \n",
       "5   <class 'gensim.models.word2vec.Word2Vec'>          25   \n",
       "6   <class 'gensim.models.word2vec.Word2Vec'>          30   \n",
       "7   <class 'gensim.models.fasttext.FastText'>           1   \n",
       "8   <class 'gensim.models.fasttext.FastText'>           5   \n",
       "9   <class 'gensim.models.fasttext.FastText'>          10   \n",
       "10  <class 'gensim.models.fasttext.FastText'>          15   \n",
       "11  <class 'gensim.models.fasttext.FastText'>          20   \n",
       "12  <class 'gensim.models.fasttext.FastText'>          25   \n",
       "13  <class 'gensim.models.fasttext.FastText'>          30   \n",
       "\n",
       "                                              dataset n_epochs vector_dims  \\\n",
       "0   [<__main__.WikiPartitionCorpus object at 0x7fb...        1         300   \n",
       "1   [<__main__.WikiPartitionCorpus object at 0x7fb...        1         300   \n",
       "2   [<__main__.WikiPartitionCorpus object at 0x7fb...        1         300   \n",
       "3   [<__main__.WikiPartitionCorpus object at 0x7fb...        1         300   \n",
       "4   [<__main__.WikiPartitionCorpus object at 0x7fb...        1         300   \n",
       "5   [<__main__.WikiPartitionCorpus object at 0x7fb...        1         300   \n",
       "6   [<__main__.WikiPartitionCorpus object at 0x7fb...        1         300   \n",
       "7   [<__main__.WikiPartitionCorpus object at 0x7fb...        1         300   \n",
       "8   [<__main__.WikiPartitionCorpus object at 0x7fb...        1         300   \n",
       "9   [<__main__.WikiPartitionCorpus object at 0x7fb...        1         300   \n",
       "10  [<__main__.WikiPartitionCorpus object at 0x7fb...        1         300   \n",
       "11  [<__main__.WikiPartitionCorpus object at 0x7fb...        1         300   \n",
       "12  [<__main__.WikiPartitionCorpus object at 0x7fb...        1         300   \n",
       "13  [<__main__.WikiPartitionCorpus object at 0x7fb...        1         300   \n",
       "\n",
       "                                          dset_fname  \\\n",
       "0   /media/vente/Data/text_0/normalized_deaccent.txt   \n",
       "1   /media/vente/Data/text_0/normalized_deaccent.txt   \n",
       "2   /media/vente/Data/text_0/normalized_deaccent.txt   \n",
       "3   /media/vente/Data/text_0/normalized_deaccent.txt   \n",
       "4   /media/vente/Data/text_0/normalized_deaccent.txt   \n",
       "5   /media/vente/Data/text_0/normalized_deaccent.txt   \n",
       "6   /media/vente/Data/text_0/normalized_deaccent.txt   \n",
       "7   /media/vente/Data/text_0/normalized_deaccent.txt   \n",
       "8   /media/vente/Data/text_0/normalized_deaccent.txt   \n",
       "9   /media/vente/Data/text_0/normalized_deaccent.txt   \n",
       "10  /media/vente/Data/text_0/normalized_deaccent.txt   \n",
       "11  /media/vente/Data/text_0/normalized_deaccent.txt   \n",
       "12  /media/vente/Data/text_0/normalized_deaccent.txt   \n",
       "13  /media/vente/Data/text_0/normalized_deaccent.txt   \n",
       "\n",
       "                                       gender_results  \\\n",
       "0                                             quer...   \n",
       "1                                             quer...   \n",
       "2                                             quer...   \n",
       "3                                             quer...   \n",
       "4                                             quer...   \n",
       "5                                             quer...   \n",
       "6                                             quer...   \n",
       "7                                             quer...   \n",
       "8                                             quer...   \n",
       "9                                             quer...   \n",
       "10                                            quer...   \n",
       "11                                            quer...   \n",
       "12                                            quer...   \n",
       "13                                            quer...   \n",
       "\n",
       "                                              analogy  \\\n",
       "0   (0.13866148178469095, [{'section': 'capital-co...   \n",
       "1   (0.20584322554236595, [{'section': 'capital-co...   \n",
       "2   (0.2371571837904216, [{'section': 'capital-com...   \n",
       "3   (0.24309250920998773, [{'section': 'capital-co...   \n",
       "4   (0.2513814981580025, [{'section': 'capital-com...   \n",
       "5   (0.2520466639377814, [{'section': 'capital-com...   \n",
       "6   (0.2403295128939828, [{'section': 'capital-com...   \n",
       "7   (0.3009107654523127, [{'section': 'capital-com...   \n",
       "8   (0.301320098239869, [{'section': 'capital-comm...   \n",
       "9   (0.29876176831764223, [{'section': 'capital-co...   \n",
       "10  (0.2874027834629554, [{'section': 'capital-com...   \n",
       "11  (0.2783974621367172, [{'section': 'capital-com...   \n",
       "12  (0.27885796152271797, [{'section': 'capital-co...   \n",
       "13  (0.2642754809660254, [{'section': 'capital-com...   \n",
       "\n",
       "                                             word_sim   car-fam  car-fam_p  \\\n",
       "0   ((0.4675111485342864, 1.4368968440147206e-20),...  0.054456   0.441456   \n",
       "1   ((0.590679944127646, 1.4131935100838e-34), (0....  0.492859   0.178282   \n",
       "2   ((0.6217139613801962, 3.903031488175409e-39), ...  0.777284   0.105189   \n",
       "3   ((0.6443230741232554, 8.593618715033783e-43), ...  0.755124   0.081492   \n",
       "4   ((0.6586781851259556, 2.8006405873123957e-45),...  0.750437   0.121988   \n",
       "5   ((0.656473116809429, 6.888414948882806e-45), (...  0.965539   0.060894   \n",
       "6   ((0.651560614977111, 4.97953126241738e-44), (0...  0.803928   0.080692   \n",
       "7   ((0.41568206413622444, 3.515083572409985e-16),...  0.186166   0.276972   \n",
       "8   ((0.5117808040112435, 5.870672882585985e-25), ...  0.648797   0.036796   \n",
       "9   ((0.5505554839333378, 2.2938659068326707e-29),...  0.860610   0.011999   \n",
       "10  ((0.5694626103071243, 9.867091308861317e-32), ...  0.852649   0.028797   \n",
       "11  ((0.5809496092284004, 3.0220169732410192e-33),...  0.853645   0.023498   \n",
       "12  ((0.5919648131300744, 9.358027227560639e-35), ...  1.183127   0.011199   \n",
       "13  ((0.5863101464943155, 5.663479299224524e-34), ...  0.825509   0.034597   \n",
       "\n",
       "    math-art  math-art_p  \n",
       "0   0.147983    0.246075  \n",
       "1   0.751406    0.019998  \n",
       "2   0.825030    0.010999  \n",
       "3   1.020125    0.005199  \n",
       "4   1.049377    0.005299  \n",
       "5   0.988328    0.012299  \n",
       "6   1.001563    0.015098  \n",
       "7   0.116170    0.324768  \n",
       "8   0.324426    0.190581  \n",
       "9   0.744642    0.045595  \n",
       "10  0.702021    0.040796  \n",
       "11  0.925092    0.029997  \n",
       "12  0.846260    0.032497  \n",
       "13  0.798511    0.040196  "
      ],
      "text/html": "<div>\n<style scoped>\n    .dataframe tbody tr th:only-of-type {\n        vertical-align: middle;\n    }\n\n    .dataframe tbody tr th {\n        vertical-align: top;\n    }\n\n    .dataframe thead th {\n        text-align: right;\n    }\n</style>\n<table border=\"1\" class=\"dataframe\">\n  <thead>\n    <tr style=\"text-align: right;\">\n      <th></th>\n      <th>architecture</th>\n      <th>window_size</th>\n      <th>dataset</th>\n      <th>n_epochs</th>\n      <th>vector_dims</th>\n      <th>dset_fname</th>\n      <th>gender_results</th>\n      <th>analogy</th>\n      <th>word_sim</th>\n      <th>car-fam</th>\n      <th>car-fam_p</th>\n      <th>math-art</th>\n      <th>math-art_p</th>\n    </tr>\n  </thead>\n  <tbody>\n    <tr>\n      <th>0</th>\n      <td>&lt;class 'gensim.models.word2vec.Word2Vec'&gt;</td>\n      <td>1</td>\n      <td>[&lt;__main__.WikiPartitionCorpus object at 0x7fb...</td>\n      <td>1</td>\n      <td>300</td>\n      <td>/media/vente/Data/text_0/normalized_deaccent.txt</td>\n      <td>quer...</td>\n      <td>(0.13866148178469095, [{'section': 'capital-co...</td>\n      <td>((0.4675111485342864, 1.4368968440147206e-20),...</td>\n      <td>0.054456</td>\n      <td>0.441456</td>\n      <td>0.147983</td>\n      <td>0.246075</td>\n    </tr>\n    <tr>\n      <th>1</th>\n      <td>&lt;class 'gensim.models.word2vec.Word2Vec'&gt;</td>\n      <td>5</td>\n      <td>[&lt;__main__.WikiPartitionCorpus object at 0x7fb...</td>\n      <td>1</td>\n      <td>300</td>\n      <td>/media/vente/Data/text_0/normalized_deaccent.txt</td>\n      <td>quer...</td>\n      <td>(0.20584322554236595, [{'section': 'capital-co...</td>\n      <td>((0.590679944127646, 1.4131935100838e-34), (0....</td>\n      <td>0.492859</td>\n      <td>0.178282</td>\n      <td>0.751406</td>\n      <td>0.019998</td>\n    </tr>\n    <tr>\n      <th>2</th>\n      <td>&lt;class 'gensim.models.word2vec.Word2Vec'&gt;</td>\n      <td>10</td>\n      <td>[&lt;__main__.WikiPartitionCorpus object at 0x7fb...</td>\n      <td>1</td>\n      <td>300</td>\n      <td>/media/vente/Data/text_0/normalized_deaccent.txt</td>\n      <td>quer...</td>\n      <td>(0.2371571837904216, [{'section': 'capital-com...</td>\n      <td>((0.6217139613801962, 3.903031488175409e-39), ...</td>\n      <td>0.777284</td>\n      <td>0.105189</td>\n      <td>0.825030</td>\n      <td>0.010999</td>\n    </tr>\n    <tr>\n      <th>3</th>\n      <td>&lt;class 'gensim.models.word2vec.Word2Vec'&gt;</td>\n      <td>15</td>\n      <td>[&lt;__main__.WikiPartitionCorpus object at 0x7fb...</td>\n      <td>1</td>\n      <td>300</td>\n      <td>/media/vente/Data/text_0/normalized_deaccent.txt</td>\n      <td>quer...</td>\n      <td>(0.24309250920998773, [{'section': 'capital-co...</td>\n      <td>((0.6443230741232554, 8.593618715033783e-43), ...</td>\n      <td>0.755124</td>\n      <td>0.081492</td>\n      <td>1.020125</td>\n      <td>0.005199</td>\n    </tr>\n    <tr>\n      <th>4</th>\n      <td>&lt;class 'gensim.models.word2vec.Word2Vec'&gt;</td>\n      <td>20</td>\n      <td>[&lt;__main__.WikiPartitionCorpus object at 0x7fb...</td>\n      <td>1</td>\n      <td>300</td>\n      <td>/media/vente/Data/text_0/normalized_deaccent.txt</td>\n      <td>quer...</td>\n      <td>(0.2513814981580025, [{'section': 'capital-com...</td>\n      <td>((0.6586781851259556, 2.8006405873123957e-45),...</td>\n      <td>0.750437</td>\n      <td>0.121988</td>\n      <td>1.049377</td>\n      <td>0.005299</td>\n    </tr>\n    <tr>\n      <th>5</th>\n      <td>&lt;class 'gensim.models.word2vec.Word2Vec'&gt;</td>\n      <td>25</td>\n      <td>[&lt;__main__.WikiPartitionCorpus object at 0x7fb...</td>\n      <td>1</td>\n      <td>300</td>\n      <td>/media/vente/Data/text_0/normalized_deaccent.txt</td>\n      <td>quer...</td>\n      <td>(0.2520466639377814, [{'section': 'capital-com...</td>\n      <td>((0.656473116809429, 6.888414948882806e-45), (...</td>\n      <td>0.965539</td>\n      <td>0.060894</td>\n      <td>0.988328</td>\n      <td>0.012299</td>\n    </tr>\n    <tr>\n      <th>6</th>\n      <td>&lt;class 'gensim.models.word2vec.Word2Vec'&gt;</td>\n      <td>30</td>\n      <td>[&lt;__main__.WikiPartitionCorpus object at 0x7fb...</td>\n      <td>1</td>\n      <td>300</td>\n      <td>/media/vente/Data/text_0/normalized_deaccent.txt</td>\n      <td>quer...</td>\n      <td>(0.2403295128939828, [{'section': 'capital-com...</td>\n      <td>((0.651560614977111, 4.97953126241738e-44), (0...</td>\n      <td>0.803928</td>\n      <td>0.080692</td>\n      <td>1.001563</td>\n      <td>0.015098</td>\n    </tr>\n    <tr>\n      <th>7</th>\n      <td>&lt;class 'gensim.models.fasttext.FastText'&gt;</td>\n      <td>1</td>\n      <td>[&lt;__main__.WikiPartitionCorpus object at 0x7fb...</td>\n      <td>1</td>\n      <td>300</td>\n      <td>/media/vente/Data/text_0/normalized_deaccent.txt</td>\n      <td>quer...</td>\n      <td>(0.3009107654523127, [{'section': 'capital-com...</td>\n      <td>((0.41568206413622444, 3.515083572409985e-16),...</td>\n      <td>0.186166</td>\n      <td>0.276972</td>\n      <td>0.116170</td>\n      <td>0.324768</td>\n    </tr>\n    <tr>\n      <th>8</th>\n      <td>&lt;class 'gensim.models.fasttext.FastText'&gt;</td>\n      <td>5</td>\n      <td>[&lt;__main__.WikiPartitionCorpus object at 0x7fb...</td>\n      <td>1</td>\n      <td>300</td>\n      <td>/media/vente/Data/text_0/normalized_deaccent.txt</td>\n      <td>quer...</td>\n      <td>(0.301320098239869, [{'section': 'capital-comm...</td>\n      <td>((0.5117808040112435, 5.870672882585985e-25), ...</td>\n      <td>0.648797</td>\n      <td>0.036796</td>\n      <td>0.324426</td>\n      <td>0.190581</td>\n    </tr>\n    <tr>\n      <th>9</th>\n      <td>&lt;class 'gensim.models.fasttext.FastText'&gt;</td>\n      <td>10</td>\n      <td>[&lt;__main__.WikiPartitionCorpus object at 0x7fb...</td>\n      <td>1</td>\n      <td>300</td>\n      <td>/media/vente/Data/text_0/normalized_deaccent.txt</td>\n      <td>quer...</td>\n      <td>(0.29876176831764223, [{'section': 'capital-co...</td>\n      <td>((0.5505554839333378, 2.2938659068326707e-29),...</td>\n      <td>0.860610</td>\n      <td>0.011999</td>\n      <td>0.744642</td>\n      <td>0.045595</td>\n    </tr>\n    <tr>\n      <th>10</th>\n      <td>&lt;class 'gensim.models.fasttext.FastText'&gt;</td>\n      <td>15</td>\n      <td>[&lt;__main__.WikiPartitionCorpus object at 0x7fb...</td>\n      <td>1</td>\n      <td>300</td>\n      <td>/media/vente/Data/text_0/normalized_deaccent.txt</td>\n      <td>quer...</td>\n      <td>(0.2874027834629554, [{'section': 'capital-com...</td>\n      <td>((0.5694626103071243, 9.867091308861317e-32), ...</td>\n      <td>0.852649</td>\n      <td>0.028797</td>\n      <td>0.702021</td>\n      <td>0.040796</td>\n    </tr>\n    <tr>\n      <th>11</th>\n      <td>&lt;class 'gensim.models.fasttext.FastText'&gt;</td>\n      <td>20</td>\n      <td>[&lt;__main__.WikiPartitionCorpus object at 0x7fb...</td>\n      <td>1</td>\n      <td>300</td>\n      <td>/media/vente/Data/text_0/normalized_deaccent.txt</td>\n      <td>quer...</td>\n      <td>(0.2783974621367172, [{'section': 'capital-com...</td>\n      <td>((0.5809496092284004, 3.0220169732410192e-33),...</td>\n      <td>0.853645</td>\n      <td>0.023498</td>\n      <td>0.925092</td>\n      <td>0.029997</td>\n    </tr>\n    <tr>\n      <th>12</th>\n      <td>&lt;class 'gensim.models.fasttext.FastText'&gt;</td>\n      <td>25</td>\n      <td>[&lt;__main__.WikiPartitionCorpus object at 0x7fb...</td>\n      <td>1</td>\n      <td>300</td>\n      <td>/media/vente/Data/text_0/normalized_deaccent.txt</td>\n      <td>quer...</td>\n      <td>(0.27885796152271797, [{'section': 'capital-co...</td>\n      <td>((0.5919648131300744, 9.358027227560639e-35), ...</td>\n      <td>1.183127</td>\n      <td>0.011199</td>\n      <td>0.846260</td>\n      <td>0.032497</td>\n    </tr>\n    <tr>\n      <th>13</th>\n      <td>&lt;class 'gensim.models.fasttext.FastText'&gt;</td>\n      <td>30</td>\n      <td>[&lt;__main__.WikiPartitionCorpus object at 0x7fb...</td>\n      <td>1</td>\n      <td>300</td>\n      <td>/media/vente/Data/text_0/normalized_deaccent.txt</td>\n      <td>quer...</td>\n      <td>(0.2642754809660254, [{'section': 'capital-com...</td>\n      <td>((0.5863101464943155, 5.663479299224524e-34), ...</td>\n      <td>0.825509</td>\n      <td>0.034597</td>\n      <td>0.798511</td>\n      <td>0.040196</td>\n    </tr>\n  </tbody>\n</table>\n</div>"
     },
     "metadata": {},
     "execution_count": 41
    }
   ],
   "source": [
    "df['gender_results'].map(display)\n",
    "query_types = ['car-fam', 'math-art']\n",
    "for i, query_type in zip([0,2], query_types):\n",
    "    df[query_type] = df['gender_results'].map(lambda x: x['weat'][i])\n",
    "    df[query_type+'_p'] = df['gender_results'].map(lambda x: x['p_value'][i])\n",
    "df"
   ]
  },
  {
   "cell_type": "code",
   "execution_count": 42,
   "metadata": {
    "tags": []
   },
   "outputs": [],
   "source": [
    "fig, ax = plt.subplots()\n",
    "for label, _df in df.groupby('architecture'):\n",
    "    label = \"Word2Vec\" if \"Word2Vec\" in label else \"FastText\"\n",
    "    _df[['car-fam','window_size']].set_index([\"window_size\"]).plot(ax=ax, ylabel='WEAT Career-Family', xlabel=\"Window Size\")\n",
    "_ = ax.legend(['Word2Vec','FastText'])\n",
    "_ = ax.set_title(\"2021 Wikipedia Embeddings\")\n",
    "\n",
    "plt.savefig(\"car-fam_x_window_size_2021.pdf\")"
   ]
  },
  {
   "cell_type": "code",
   "execution_count": 43,
   "metadata": {},
   "outputs": [],
   "source": [
    "fig, ax = plt.subplots()\n",
    "for label, _df in df.groupby('architecture'):\n",
    "    _df[['math-art','window_size']].set_index([\"window_size\"]).plot(ax=ax, ylabel='WEAT Math-Art', xlabel=\"Window Size\")\n",
    "ax.legend(['Word2Vec','FastText'])\n",
    "_ = ax.set_title(\"2021 Wikipedia Embeddings\")\n",
    "plt.savefig(\"math-art_x_window_size_2021.pdf\")"
   ]
  },
  {
   "cell_type": "code",
   "execution_count": 44,
   "metadata": {},
   "outputs": [],
   "source": [
    "df['analogy_s'] = df['analogy'].map(lambda x: x[0] if x is not None else None)\n"
   ]
  },
  {
   "cell_type": "code",
   "execution_count": 45,
   "metadata": {},
   "outputs": [
    {
     "output_type": "stream",
     "name": "stderr",
     "text": [
      "<ipython-input-45-d8d0204efe6c>:1: RuntimeWarning: More than 20 figures have been opened. Figures created through the pyplot interface (`matplotlib.pyplot.figure`) are retained until explicitly closed and may consume too much memory. (To control this warning, see the rcParam `figure.max_open_warning`).\n  fig, ax = plt.subplots()\n"
     ]
    }
   ],
   "source": [
    "fig, ax = plt.subplots()\n",
    "for label, _df in df.groupby('architecture'):\n",
    "    label = \"Word2Vec\" if \"Word2Vec\" in label else \"FastText\"\n",
    "    _df[['analogy_s','window_size']].set_index([\"window_size\"]).plot(ax=ax, xlabel=\"Window Size\", ylabel=\"Analogy Accuracy\")\n",
    "    \n",
    "_ = ax.legend(['Word2Vec','FastText'])\n",
    "_ = ax.set_title(\"2021 Wikipedia Embeddings\")\n",
    "plt.savefig(\"analogy-avg_x_window_size_2021.pdf\")"
   ]
  },
  {
   "cell_type": "code",
   "execution_count": 62,
   "metadata": {},
   "outputs": [],
   "source": [
    "fig, ax = plt.subplots()\n",
    "\n",
    "for label, _df in df.groupby('architecture'):\n",
    "    sns.regplot(\n",
    "        x=_df['math-art'].rename(\"Male-Female wrt Math Art\"),\n",
    "        y=_df['analogy_s'].rename(\"Analogy Accuracy\"))\n",
    "    for i, point in _df.iterrows():\n",
    "        ax.text(point['car-fam']+.02, point['wordsim_s'], str(point['window_size']))\n",
    "ax.legend(['Word2Vec','FastText'])\n",
    "_ = ax.set_title(\"2021 Wikipedia Embeddings\")\n",
    "plt.savefig(\"analogy-avg_x_math-art_2021.pdf\")"
   ]
  },
  {
   "cell_type": "code",
   "execution_count": 61,
   "metadata": {},
   "outputs": [],
   "source": [
    "fig, ax = plt.subplots()\n",
    "df['wordsim_s'] = df['word_sim'].map(lambda x: x[0][0] if x is not None else None)\n",
    "\n",
    "for label, _df in df.groupby('architecture'):\n",
    "    sns.regplot(\n",
    "        x=_df['car-fam'].rename(\"Male-Female wrt Career Family\"),\n",
    "        y=_df['wordsim_s'].rename(\"Word Similarity Benchmark\"))\n",
    "    for i, point in _df.iterrows():\n",
    "        ax.text(point['car-fam']+.02, point['wordsim_s'], str(point['window_size']))\n",
    "\n",
    "_ = ax.set_title(\"2021 Wikipedia Embeddings\")\n",
    "ax.legend(['Word2Vec','FastText'])\n",
    "plt.savefig(\"car-fam_x_wordsim_2021.pdf\")"
   ]
  },
  {
   "cell_type": "code",
   "execution_count": 51,
   "metadata": {},
   "outputs": [],
   "source": [
    "fig, ax = plt.subplots()\n",
    "for label, _df in df.groupby('architecture'):\n",
    "    _df[['wordsim_s','window_size']].set_index([\"window_size\"]).plot(ax=ax, xlabel=\"Window Size\", ylabel=\"Word Similarity Correlation\")\n",
    "_ = ax.set_title(\"2021 Wikipedia Embeddings\")\n",
    "ax.legend(['Word2Vec','FastText'])\n",
    "plt.savefig(\"wordsim_x_window-size_2021.pdf\")"
   ]
  },
  {
   "cell_type": "code",
   "execution_count": 49,
   "metadata": {},
   "outputs": [
    {
     "output_type": "execute_result",
     "data": {
      "text/plain": [
       "                                 architecture window_size  \\\n",
       "0   <class 'gensim.models.word2vec.Word2Vec'>           1   \n",
       "1   <class 'gensim.models.word2vec.Word2Vec'>           5   \n",
       "2   <class 'gensim.models.word2vec.Word2Vec'>          10   \n",
       "3   <class 'gensim.models.word2vec.Word2Vec'>          15   \n",
       "4   <class 'gensim.models.word2vec.Word2Vec'>          20   \n",
       "5   <class 'gensim.models.word2vec.Word2Vec'>          25   \n",
       "6   <class 'gensim.models.word2vec.Word2Vec'>          30   \n",
       "7   <class 'gensim.models.fasttext.FastText'>           1   \n",
       "8   <class 'gensim.models.fasttext.FastText'>           5   \n",
       "9   <class 'gensim.models.fasttext.FastText'>          10   \n",
       "10  <class 'gensim.models.fasttext.FastText'>          15   \n",
       "11  <class 'gensim.models.fasttext.FastText'>          20   \n",
       "12  <class 'gensim.models.fasttext.FastText'>          25   \n",
       "13  <class 'gensim.models.fasttext.FastText'>          30   \n",
       "\n",
       "                                              dataset n_epochs vector_dims  \\\n",
       "0   [<__main__.WikiPartitionCorpus object at 0x7fb...        1         300   \n",
       "1   [<__main__.WikiPartitionCorpus object at 0x7fb...        1         300   \n",
       "2   [<__main__.WikiPartitionCorpus object at 0x7fb...        1         300   \n",
       "3   [<__main__.WikiPartitionCorpus object at 0x7fb...        1         300   \n",
       "4   [<__main__.WikiPartitionCorpus object at 0x7fb...        1         300   \n",
       "5   [<__main__.WikiPartitionCorpus object at 0x7fb...        1         300   \n",
       "6   [<__main__.WikiPartitionCorpus object at 0x7fb...        1         300   \n",
       "7   [<__main__.WikiPartitionCorpus object at 0x7fb...        1         300   \n",
       "8   [<__main__.WikiPartitionCorpus object at 0x7fb...        1         300   \n",
       "9   [<__main__.WikiPartitionCorpus object at 0x7fb...        1         300   \n",
       "10  [<__main__.WikiPartitionCorpus object at 0x7fb...        1         300   \n",
       "11  [<__main__.WikiPartitionCorpus object at 0x7fb...        1         300   \n",
       "12  [<__main__.WikiPartitionCorpus object at 0x7fb...        1         300   \n",
       "13  [<__main__.WikiPartitionCorpus object at 0x7fb...        1         300   \n",
       "\n",
       "                                          dset_fname  \\\n",
       "0   /media/vente/Data/text_0/normalized_deaccent.txt   \n",
       "1   /media/vente/Data/text_0/normalized_deaccent.txt   \n",
       "2   /media/vente/Data/text_0/normalized_deaccent.txt   \n",
       "3   /media/vente/Data/text_0/normalized_deaccent.txt   \n",
       "4   /media/vente/Data/text_0/normalized_deaccent.txt   \n",
       "5   /media/vente/Data/text_0/normalized_deaccent.txt   \n",
       "6   /media/vente/Data/text_0/normalized_deaccent.txt   \n",
       "7   /media/vente/Data/text_0/normalized_deaccent.txt   \n",
       "8   /media/vente/Data/text_0/normalized_deaccent.txt   \n",
       "9   /media/vente/Data/text_0/normalized_deaccent.txt   \n",
       "10  /media/vente/Data/text_0/normalized_deaccent.txt   \n",
       "11  /media/vente/Data/text_0/normalized_deaccent.txt   \n",
       "12  /media/vente/Data/text_0/normalized_deaccent.txt   \n",
       "13  /media/vente/Data/text_0/normalized_deaccent.txt   \n",
       "\n",
       "                                       gender_results  \\\n",
       "0                                             quer...   \n",
       "1                                             quer...   \n",
       "2                                             quer...   \n",
       "3                                             quer...   \n",
       "4                                             quer...   \n",
       "5                                             quer...   \n",
       "6                                             quer...   \n",
       "7                                             quer...   \n",
       "8                                             quer...   \n",
       "9                                             quer...   \n",
       "10                                            quer...   \n",
       "11                                            quer...   \n",
       "12                                            quer...   \n",
       "13                                            quer...   \n",
       "\n",
       "                                              analogy  \\\n",
       "0   (0.13866148178469095, [{'section': 'capital-co...   \n",
       "1   (0.20584322554236595, [{'section': 'capital-co...   \n",
       "2   (0.2371571837904216, [{'section': 'capital-com...   \n",
       "3   (0.24309250920998773, [{'section': 'capital-co...   \n",
       "4   (0.2513814981580025, [{'section': 'capital-com...   \n",
       "5   (0.2520466639377814, [{'section': 'capital-com...   \n",
       "6   (0.2403295128939828, [{'section': 'capital-com...   \n",
       "7   (0.3009107654523127, [{'section': 'capital-com...   \n",
       "8   (0.301320098239869, [{'section': 'capital-comm...   \n",
       "9   (0.29876176831764223, [{'section': 'capital-co...   \n",
       "10  (0.2874027834629554, [{'section': 'capital-com...   \n",
       "11  (0.2783974621367172, [{'section': 'capital-com...   \n",
       "12  (0.27885796152271797, [{'section': 'capital-co...   \n",
       "13  (0.2642754809660254, [{'section': 'capital-com...   \n",
       "\n",
       "                                             word_sim   car-fam  car-fam_p  \\\n",
       "0   ((0.4675111485342864, 1.4368968440147206e-20),...  0.054456   0.441456   \n",
       "1   ((0.590679944127646, 1.4131935100838e-34), (0....  0.492859   0.178282   \n",
       "2   ((0.6217139613801962, 3.903031488175409e-39), ...  0.777284   0.105189   \n",
       "3   ((0.6443230741232554, 8.593618715033783e-43), ...  0.755124   0.081492   \n",
       "4   ((0.6586781851259556, 2.8006405873123957e-45),...  0.750437   0.121988   \n",
       "5   ((0.656473116809429, 6.888414948882806e-45), (...  0.965539   0.060894   \n",
       "6   ((0.651560614977111, 4.97953126241738e-44), (0...  0.803928   0.080692   \n",
       "7   ((0.41568206413622444, 3.515083572409985e-16),...  0.186166   0.276972   \n",
       "8   ((0.5117808040112435, 5.870672882585985e-25), ...  0.648797   0.036796   \n",
       "9   ((0.5505554839333378, 2.2938659068326707e-29),...  0.860610   0.011999   \n",
       "10  ((0.5694626103071243, 9.867091308861317e-32), ...  0.852649   0.028797   \n",
       "11  ((0.5809496092284004, 3.0220169732410192e-33),...  0.853645   0.023498   \n",
       "12  ((0.5919648131300744, 9.358027227560639e-35), ...  1.183127   0.011199   \n",
       "13  ((0.5863101464943155, 5.663479299224524e-34), ...  0.825509   0.034597   \n",
       "\n",
       "    math-art  math-art_p  analogy_s  wordsim_s  \n",
       "0   0.147983    0.246075   0.138661   0.467511  \n",
       "1   0.751406    0.019998   0.205843   0.590680  \n",
       "2   0.825030    0.010999   0.237157   0.621714  \n",
       "3   1.020125    0.005199   0.243093   0.644323  \n",
       "4   1.049377    0.005299   0.251381   0.658678  \n",
       "5   0.988328    0.012299   0.252047   0.656473  \n",
       "6   1.001563    0.015098   0.240330   0.651561  \n",
       "7   0.116170    0.324768   0.300911   0.415682  \n",
       "8   0.324426    0.190581   0.301320   0.511781  \n",
       "9   0.744642    0.045595   0.298762   0.550555  \n",
       "10  0.702021    0.040796   0.287403   0.569463  \n",
       "11  0.925092    0.029997   0.278397   0.580950  \n",
       "12  0.846260    0.032497   0.278858   0.591965  \n",
       "13  0.798511    0.040196   0.264275   0.586310  "
      ],
      "text/html": "<div>\n<style scoped>\n    .dataframe tbody tr th:only-of-type {\n        vertical-align: middle;\n    }\n\n    .dataframe tbody tr th {\n        vertical-align: top;\n    }\n\n    .dataframe thead th {\n        text-align: right;\n    }\n</style>\n<table border=\"1\" class=\"dataframe\">\n  <thead>\n    <tr style=\"text-align: right;\">\n      <th></th>\n      <th>architecture</th>\n      <th>window_size</th>\n      <th>dataset</th>\n      <th>n_epochs</th>\n      <th>vector_dims</th>\n      <th>dset_fname</th>\n      <th>gender_results</th>\n      <th>analogy</th>\n      <th>word_sim</th>\n      <th>car-fam</th>\n      <th>car-fam_p</th>\n      <th>math-art</th>\n      <th>math-art_p</th>\n      <th>analogy_s</th>\n      <th>wordsim_s</th>\n    </tr>\n  </thead>\n  <tbody>\n    <tr>\n      <th>0</th>\n      <td>&lt;class 'gensim.models.word2vec.Word2Vec'&gt;</td>\n      <td>1</td>\n      <td>[&lt;__main__.WikiPartitionCorpus object at 0x7fb...</td>\n      <td>1</td>\n      <td>300</td>\n      <td>/media/vente/Data/text_0/normalized_deaccent.txt</td>\n      <td>quer...</td>\n      <td>(0.13866148178469095, [{'section': 'capital-co...</td>\n      <td>((0.4675111485342864, 1.4368968440147206e-20),...</td>\n      <td>0.054456</td>\n      <td>0.441456</td>\n      <td>0.147983</td>\n      <td>0.246075</td>\n      <td>0.138661</td>\n      <td>0.467511</td>\n    </tr>\n    <tr>\n      <th>1</th>\n      <td>&lt;class 'gensim.models.word2vec.Word2Vec'&gt;</td>\n      <td>5</td>\n      <td>[&lt;__main__.WikiPartitionCorpus object at 0x7fb...</td>\n      <td>1</td>\n      <td>300</td>\n      <td>/media/vente/Data/text_0/normalized_deaccent.txt</td>\n      <td>quer...</td>\n      <td>(0.20584322554236595, [{'section': 'capital-co...</td>\n      <td>((0.590679944127646, 1.4131935100838e-34), (0....</td>\n      <td>0.492859</td>\n      <td>0.178282</td>\n      <td>0.751406</td>\n      <td>0.019998</td>\n      <td>0.205843</td>\n      <td>0.590680</td>\n    </tr>\n    <tr>\n      <th>2</th>\n      <td>&lt;class 'gensim.models.word2vec.Word2Vec'&gt;</td>\n      <td>10</td>\n      <td>[&lt;__main__.WikiPartitionCorpus object at 0x7fb...</td>\n      <td>1</td>\n      <td>300</td>\n      <td>/media/vente/Data/text_0/normalized_deaccent.txt</td>\n      <td>quer...</td>\n      <td>(0.2371571837904216, [{'section': 'capital-com...</td>\n      <td>((0.6217139613801962, 3.903031488175409e-39), ...</td>\n      <td>0.777284</td>\n      <td>0.105189</td>\n      <td>0.825030</td>\n      <td>0.010999</td>\n      <td>0.237157</td>\n      <td>0.621714</td>\n    </tr>\n    <tr>\n      <th>3</th>\n      <td>&lt;class 'gensim.models.word2vec.Word2Vec'&gt;</td>\n      <td>15</td>\n      <td>[&lt;__main__.WikiPartitionCorpus object at 0x7fb...</td>\n      <td>1</td>\n      <td>300</td>\n      <td>/media/vente/Data/text_0/normalized_deaccent.txt</td>\n      <td>quer...</td>\n      <td>(0.24309250920998773, [{'section': 'capital-co...</td>\n      <td>((0.6443230741232554, 8.593618715033783e-43), ...</td>\n      <td>0.755124</td>\n      <td>0.081492</td>\n      <td>1.020125</td>\n      <td>0.005199</td>\n      <td>0.243093</td>\n      <td>0.644323</td>\n    </tr>\n    <tr>\n      <th>4</th>\n      <td>&lt;class 'gensim.models.word2vec.Word2Vec'&gt;</td>\n      <td>20</td>\n      <td>[&lt;__main__.WikiPartitionCorpus object at 0x7fb...</td>\n      <td>1</td>\n      <td>300</td>\n      <td>/media/vente/Data/text_0/normalized_deaccent.txt</td>\n      <td>quer...</td>\n      <td>(0.2513814981580025, [{'section': 'capital-com...</td>\n      <td>((0.6586781851259556, 2.8006405873123957e-45),...</td>\n      <td>0.750437</td>\n      <td>0.121988</td>\n      <td>1.049377</td>\n      <td>0.005299</td>\n      <td>0.251381</td>\n      <td>0.658678</td>\n    </tr>\n    <tr>\n      <th>5</th>\n      <td>&lt;class 'gensim.models.word2vec.Word2Vec'&gt;</td>\n      <td>25</td>\n      <td>[&lt;__main__.WikiPartitionCorpus object at 0x7fb...</td>\n      <td>1</td>\n      <td>300</td>\n      <td>/media/vente/Data/text_0/normalized_deaccent.txt</td>\n      <td>quer...</td>\n      <td>(0.2520466639377814, [{'section': 'capital-com...</td>\n      <td>((0.656473116809429, 6.888414948882806e-45), (...</td>\n      <td>0.965539</td>\n      <td>0.060894</td>\n      <td>0.988328</td>\n      <td>0.012299</td>\n      <td>0.252047</td>\n      <td>0.656473</td>\n    </tr>\n    <tr>\n      <th>6</th>\n      <td>&lt;class 'gensim.models.word2vec.Word2Vec'&gt;</td>\n      <td>30</td>\n      <td>[&lt;__main__.WikiPartitionCorpus object at 0x7fb...</td>\n      <td>1</td>\n      <td>300</td>\n      <td>/media/vente/Data/text_0/normalized_deaccent.txt</td>\n      <td>quer...</td>\n      <td>(0.2403295128939828, [{'section': 'capital-com...</td>\n      <td>((0.651560614977111, 4.97953126241738e-44), (0...</td>\n      <td>0.803928</td>\n      <td>0.080692</td>\n      <td>1.001563</td>\n      <td>0.015098</td>\n      <td>0.240330</td>\n      <td>0.651561</td>\n    </tr>\n    <tr>\n      <th>7</th>\n      <td>&lt;class 'gensim.models.fasttext.FastText'&gt;</td>\n      <td>1</td>\n      <td>[&lt;__main__.WikiPartitionCorpus object at 0x7fb...</td>\n      <td>1</td>\n      <td>300</td>\n      <td>/media/vente/Data/text_0/normalized_deaccent.txt</td>\n      <td>quer...</td>\n      <td>(0.3009107654523127, [{'section': 'capital-com...</td>\n      <td>((0.41568206413622444, 3.515083572409985e-16),...</td>\n      <td>0.186166</td>\n      <td>0.276972</td>\n      <td>0.116170</td>\n      <td>0.324768</td>\n      <td>0.300911</td>\n      <td>0.415682</td>\n    </tr>\n    <tr>\n      <th>8</th>\n      <td>&lt;class 'gensim.models.fasttext.FastText'&gt;</td>\n      <td>5</td>\n      <td>[&lt;__main__.WikiPartitionCorpus object at 0x7fb...</td>\n      <td>1</td>\n      <td>300</td>\n      <td>/media/vente/Data/text_0/normalized_deaccent.txt</td>\n      <td>quer...</td>\n      <td>(0.301320098239869, [{'section': 'capital-comm...</td>\n      <td>((0.5117808040112435, 5.870672882585985e-25), ...</td>\n      <td>0.648797</td>\n      <td>0.036796</td>\n      <td>0.324426</td>\n      <td>0.190581</td>\n      <td>0.301320</td>\n      <td>0.511781</td>\n    </tr>\n    <tr>\n      <th>9</th>\n      <td>&lt;class 'gensim.models.fasttext.FastText'&gt;</td>\n      <td>10</td>\n      <td>[&lt;__main__.WikiPartitionCorpus object at 0x7fb...</td>\n      <td>1</td>\n      <td>300</td>\n      <td>/media/vente/Data/text_0/normalized_deaccent.txt</td>\n      <td>quer...</td>\n      <td>(0.29876176831764223, [{'section': 'capital-co...</td>\n      <td>((0.5505554839333378, 2.2938659068326707e-29),...</td>\n      <td>0.860610</td>\n      <td>0.011999</td>\n      <td>0.744642</td>\n      <td>0.045595</td>\n      <td>0.298762</td>\n      <td>0.550555</td>\n    </tr>\n    <tr>\n      <th>10</th>\n      <td>&lt;class 'gensim.models.fasttext.FastText'&gt;</td>\n      <td>15</td>\n      <td>[&lt;__main__.WikiPartitionCorpus object at 0x7fb...</td>\n      <td>1</td>\n      <td>300</td>\n      <td>/media/vente/Data/text_0/normalized_deaccent.txt</td>\n      <td>quer...</td>\n      <td>(0.2874027834629554, [{'section': 'capital-com...</td>\n      <td>((0.5694626103071243, 9.867091308861317e-32), ...</td>\n      <td>0.852649</td>\n      <td>0.028797</td>\n      <td>0.702021</td>\n      <td>0.040796</td>\n      <td>0.287403</td>\n      <td>0.569463</td>\n    </tr>\n    <tr>\n      <th>11</th>\n      <td>&lt;class 'gensim.models.fasttext.FastText'&gt;</td>\n      <td>20</td>\n      <td>[&lt;__main__.WikiPartitionCorpus object at 0x7fb...</td>\n      <td>1</td>\n      <td>300</td>\n      <td>/media/vente/Data/text_0/normalized_deaccent.txt</td>\n      <td>quer...</td>\n      <td>(0.2783974621367172, [{'section': 'capital-com...</td>\n      <td>((0.5809496092284004, 3.0220169732410192e-33),...</td>\n      <td>0.853645</td>\n      <td>0.023498</td>\n      <td>0.925092</td>\n      <td>0.029997</td>\n      <td>0.278397</td>\n      <td>0.580950</td>\n    </tr>\n    <tr>\n      <th>12</th>\n      <td>&lt;class 'gensim.models.fasttext.FastText'&gt;</td>\n      <td>25</td>\n      <td>[&lt;__main__.WikiPartitionCorpus object at 0x7fb...</td>\n      <td>1</td>\n      <td>300</td>\n      <td>/media/vente/Data/text_0/normalized_deaccent.txt</td>\n      <td>quer...</td>\n      <td>(0.27885796152271797, [{'section': 'capital-co...</td>\n      <td>((0.5919648131300744, 9.358027227560639e-35), ...</td>\n      <td>1.183127</td>\n      <td>0.011199</td>\n      <td>0.846260</td>\n      <td>0.032497</td>\n      <td>0.278858</td>\n      <td>0.591965</td>\n    </tr>\n    <tr>\n      <th>13</th>\n      <td>&lt;class 'gensim.models.fasttext.FastText'&gt;</td>\n      <td>30</td>\n      <td>[&lt;__main__.WikiPartitionCorpus object at 0x7fb...</td>\n      <td>1</td>\n      <td>300</td>\n      <td>/media/vente/Data/text_0/normalized_deaccent.txt</td>\n      <td>quer...</td>\n      <td>(0.2642754809660254, [{'section': 'capital-com...</td>\n      <td>((0.5863101464943155, 5.663479299224524e-34), ...</td>\n      <td>0.825509</td>\n      <td>0.034597</td>\n      <td>0.798511</td>\n      <td>0.040196</td>\n      <td>0.264275</td>\n      <td>0.586310</td>\n    </tr>\n  </tbody>\n</table>\n</div>"
     },
     "metadata": {},
     "execution_count": 49
    }
   ],
   "source": [
    "df"
   ]
  },
  {
   "cell_type": "code",
   "execution_count": null,
   "metadata": {},
   "outputs": [],
   "source": []
  }
 ]
}