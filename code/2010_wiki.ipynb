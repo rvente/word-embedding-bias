{
 "metadata": {
  "language_info": {
   "codemirror_mode": {
    "name": "ipython",
    "version": 3
   },
   "file_extension": ".py",
   "mimetype": "text/x-python",
   "name": "python",
   "nbconvert_exporter": "python",
   "pygments_lexer": "ipython3",
   "version": "3.8.5"
  },
  "orig_nbformat": 2,
  "kernelspec": {
   "name": "python385jvsc74a57bd031f2aee4e71d21fbe5cf8b01ff0e069b9275f58929596ceb00d14d90e3e16cd6",
   "display_name": "Python 3.8.5 64-bit"
  }
 },
 "nbformat": 4,
 "nbformat_minor": 2,
 "cells": [
  {
   "cell_type": "code",
   "execution_count": 1,
   "metadata": {
    "tags": [
     "outputPrepend"
    ]
   },
   "outputs": [
    {
     "output_type": "stream",
     "name": "stderr",
     "text": [
      "urllib3.fields', 'requests.packages.urllib3.filepost', 'requests.packages.urllib3.packages.six.moves.urllib', 'requests.packages.urllib3.packages.six.moves.urllib.parse', 'requests.packages.urllib3.request', 'requests.packages.urllib3.response', 'requests.packages.urllib3.connectionpool', 'requests.packages.urllib3.poolmanager', 'requests.packages.urllib3', 'requests.packages.chardet', 'requests.packages', 'requests.packages.urllib3.contrib', 'cgi', 'certifi.core', 'certifi', 'requests.certs', 'http.cookiejar', 'http.cookies', 'requests.compat', 'requests._internal_utils', 'requests.cookies', 'requests.structures', 'requests.exceptions', 'requests.utils', 'stringprep', 'encodings.idna', 'requests.hooks', 'requests.status_codes', 'requests.auth', 'requests.models', 'requests.adapters', 'requests.sessions', 'requests.api', 'requests', 'smart_open.http', 'multiprocessing.process', 'multiprocessing.reduction', 'multiprocessing.context', '__mp_main__', 'multiprocessing', 'multiprocessing.util', '_multiprocessing', 'multiprocessing.connection', 'multiprocessing.pool', 'smart_open.concurrency', 'smart_open.s3', 'smart_open.ssh', 'smart_open.webhdfs', 'smart_open.transport', 'smart_open.doctools', 'smart_open.smart_open_lib', 'smart_open', 'scipy._lib._testutils', 'scipy._lib', 'scipy._lib.deprecation', 'scipy.__config__', 'scipy.version', 'scipy._distributor_init', 'scipy._lib._pep440', 'scipy._lib._ccallback_c', 'scipy._lib._ccallback', 'scipy', 'scipy._lib._util', 'scipy.sparse.sputils', 'scipy.sparse.base', 'scipy.sparse._sparsetools', 'scipy.sparse.data', 'scipy.sparse.dia', 'scipy.sparse._index', 'scipy.sparse.compressed', 'scipy.sparse.csr', 'scipy.sparse.csc', 'scipy.sparse._csparsetools', 'scipy.sparse.lil', 'scipy.sparse.dok', 'scipy.sparse.coo', 'scipy.sparse.bsr', 'scipy.sparse.construct', 'scipy.sparse.extract', 'scipy.sparse._matrix_io', 'scipy.sparse.csgraph._laplacian', 'scipy.sparse.csgraph._tools', 'scipy.sparse.csgraph._validation', 'scipy.sparse.csgraph._shortest_path', 'scipy.sparse.csgraph._traversal', 'scipy.sparse.csgraph._min_spanning_tree', 'scipy.sparse.csgraph._flow', 'scipy.sparse.csgraph._matching', 'scipy.sparse.csgraph._reordering', 'scipy.sparse.csgraph', 'scipy.sparse', 'scipy.spatial.ckdtree', 'scipy.spatial.kdtree', 'scipy._lib.messagestream', 'scipy.spatial.qhull', 'scipy.spatial._voronoi', 'scipy.spatial._spherical_voronoi', 'scipy._lib.decorator', 'scipy.spatial._plotutils', 'scipy.linalg._fblas', 'scipy.linalg.blas', 'scipy.linalg._flapack', 'scipy.linalg.lapack', 'scipy.linalg.misc', 'scipy.linalg._flinalg', 'scipy.linalg.flinalg', 'scipy.linalg.decomp', 'scipy.linalg.decomp_svd', 'scipy.linalg._solve_toeplitz', 'scipy.linalg.basic', 'scipy.linalg.decomp_lu', 'scipy.linalg._decomp_ldl', 'scipy.linalg.decomp_cholesky', 'scipy.linalg.decomp_qr', 'scipy.linalg._decomp_qz', 'scipy.linalg.decomp_schur', 'scipy.linalg._decomp_polar', 'scipy.linalg.special_matrices', 'scipy.linalg._expm_frechet', 'scipy.linalg._matfuncs_sqrtm_triu', 'scipy.linalg._matfuncs_sqrtm', 'scipy.linalg.matfuncs', 'scipy.linalg._solvers', 'scipy.linalg._procrustes', 'scipy.linalg.cython_blas', 'scipy.linalg.cython_lapack', 'scipy.linalg._decomp_update', 'scipy.linalg._sketches', 'scipy.linalg._decomp_cossin', 'scipy.linalg', 'scipy.spatial._procrustes', 'scipy.spatial._distance_wrap', 'scipy.spatial._hausdorff', 'scipy.special.sf_error', 'scipy.special._ufuncs_cxx', 'scipy.special._ufuncs', 'scipy.special.specfun', 'scipy.special.orthogonal', 'scipy.special._comb', 'scipy.special._basic', 'scipy.special._logsumexp', 'scipy.special.spfun_stats', 'scipy.special._ellip_harm_2', 'scipy.special._ellip_harm', 'scipy.special._lambertw', 'scipy.special._spherical_bessel', 'scipy.special', 'scipy.spatial.distance', 'scipy.spatial._geometric_slerp', 'scipy.constants.codata', 'scipy.constants.constants', 'scipy.constants', 'scipy.spatial.transform._rotation_groups', 'scipy.spatial.transform.rotation', 'scipy.spatial.transform._rotation_spline', 'scipy.spatial.transform', 'scipy.spatial', 'scipy.ndimage._ni_support', 'scipy.ndimage._nd_image', 'scipy._lib.doccer', 'scipy.ndimage._ni_docstrings', 'scipy.ndimage.filters', 'scipy.ndimage.fourier', 'scipy.ndimage.interpolation', '_ni_label', 'scipy.ndimage._ni_label', 'scipy.ndimage.morphology', 'scipy.ndimage.measurements', 'scipy.ndimage', 'scipy.stats._distr_params', 'scipy.optimize.minpack2', 'scipy.optimize.linesearch', 'scipy.sparse.linalg.isolve._iterative', 'scipy.sparse.linalg.interface', 'scipy.sparse.linalg.isolve.utils', 'scipy._lib._threadsafety', 'scipy.sparse.linalg.isolve.iterative', 'scipy.sparse.linalg.isolve.minres', 'scipy.sparse.linalg.isolve._gcrotmk', 'scipy.sparse.linalg.isolve.lgmres', 'scipy.sparse.linalg.isolve.lsqr', 'scipy.sparse.linalg.isolve.lsmr', 'scipy.sparse.linalg.isolve', 'scipy.sparse.linalg.dsolve._superlu', 'scipy.sparse.linalg.dsolve.linsolve', 'scipy.sparse.linalg.dsolve._add_newdocs', 'scipy.sparse.linalg.dsolve', 'scipy.sparse.linalg.eigen.arpack._arpack', 'scipy.sparse.linalg.eigen.lobpcg.lobpcg', 'scipy.sparse.linalg.eigen.lobpcg', 'scipy.sparse.linalg.eigen.arpack.arpack', 'scipy.sparse.linalg.eigen.arpack', 'scipy.sparse.linalg.eigen', 'scipy.sparse.linalg._expm_multiply', 'scipy.sparse.linalg.matfuncs', 'scipy.sparse.linalg._onenormest', 'scipy.sparse.linalg._norm', 'scipy.sparse.linalg', 'scipy.optimize._group_columns', 'scipy.optimize._numdiff', 'scipy.optimize._hessian_update_strategy', 'scipy.optimize._differentiable_functions', 'scipy.optimize.optimize', 'scipy.optimize._trustregion', 'scipy.optimize._trustregion_dogleg', 'scipy.optimize._trustregion_ncg', 'scipy.optimize._trlib._trlib', 'scipy.optimize._trlib', 'scipy.optimize._trustregion_krylov', 'scipy.optimize._trustregion_exact', 'unittest.util', 'unittest.result', 'unittest.case', 'unittest.async_case', 'unittest.suite', 'unittest.loader', 'unittest.signals', 'unittest.runner', 'unittest.main', 'unittest', 'numpy.testing._private', 'numpy.testing._private.utils', 'numpy.testing._private.decorators', 'numpy.testing._private.nosetester', 'numpy.testing', 'scipy.optimize._constraints', 'scipy.optimize._trustregion_constr.projections', 'scipy.optimize._trustregion_constr.qp_subproblem', 'scipy.optimize._trustregion_constr.equality_constrained_sqp', 'scipy.optimize._trustregion_constr.canonical_constraint', 'scipy.optimize._trustregion_constr.tr_interior_point', 'scipy.optimize._trustregion_constr.report', 'scipy.optimize._trustregion_constr.minimize_trustregion_constr', 'scipy.optimize._trustregion_constr', 'scipy.optimize._lbfgsb', 'scipy.optimize.lbfgsb', 'scipy.optimize.moduleTNC', 'scipy.optimize.tnc', 'scipy.optimize._cobyla', 'scipy.optimize.cobyla', 'scipy.optimize._slsqp', 'scipy.optimize.slsqp', 'scipy.optimize._minimize', 'scipy.optimize._minpack', 'scipy.optimize._lsq.common', 'scipy.optimize._lsq.trf', 'scipy.optimize._lsq.dogbox', 'scipy.optimize._lsq.least_squares', 'scipy.optimize._lsq.givens_elimination', 'scipy.optimize._lsq.trf_linear', 'scipy.optimize._lsq.bvls', 'scipy.optimize._lsq.lsq_linear', 'scipy.optimize._lsq', 'scipy.optimize.minpack', 'scipy.optimize._spectral', 'scipy.optimize.nonlin', 'scipy.optimize._root', 'scipy.optimize._zeros', 'scipy.optimize.zeros', 'scipy.optimize._root_scalar', 'scipy.optimize.__nnls', 'scipy.optimize._nnls', 'scipy.optimize._basinhopping', 'scipy.linalg._interpolative', 'scipy.linalg._interpolative_backend', 'scipy.linalg.interpolative', 'scipy.optimize._remove_redundancy', 'scipy.optimize._linprog_util', 'scipy.optimize._linprog_ip', 'scipy.optimize._linprog_simplex', 'scipy.optimize._bglu_dense', 'scipy.optimize._linprog_rs', 'scipy.optimize._highs', 'highs_wrapper', 'scipy.optimize._highs.highs_wrapper', 'constants', 'scipy.optimize._highs.constants', 'scipy.optimize._linprog_highs', 'scipy.optimize._linprog_doc', 'scipy.optimize._linprog', 'scipy.optimize._lsap_module', 'scipy.optimize._lsap', 'scipy.optimize._differentialevolution', 'scipy.optimize._shgo_lib', 'scipy.optimize._shgo_lib.sobol_seq', 'scipy.optimize._shgo_lib.triangulation', 'scipy.optimize._shgo', 'scipy.optimize._dual_annealing', 'scipy.optimize._qap', 'scipy.optimize', 'scipy.integrate._quadrature', 'scipy.integrate._odepack', 'scipy.integrate.odepack', 'scipy.integrate._quadpack', 'scipy.integrate.quadpack', 'scipy.integrate.vode', 'scipy.integrate._dop', 'scipy.integrate.lsoda', 'scipy.integrate._ode', 'scipy.integrate._bvp', 'scipy.integrate._ivp.common', 'scipy.integrate._ivp.base', 'scipy.integrate._ivp.bdf', 'scipy.integrate._ivp.radau', 'scipy.integrate._ivp.dop853_coefficients', 'scipy.integrate._ivp.rk', 'scipy.integrate._ivp.lsoda', 'scipy.integrate._ivp.ivp', 'scipy.integrate._ivp', 'scipy.integrate._quad_vec', 'scipy.integrate', 'scipy.misc.doccer', 'scipy.misc.common', 'scipy.misc', 'scipy.stats._constants', 'scipy.stats._distn_infrastructure', 'scipy.interpolate._fitpack', 'scipy.interpolate.dfitpack', 'scipy.interpolate._fitpack_impl', 'scipy.interpolate._bspl', 'scipy.interpolate._bsplines', 'scipy.interpolate.fitpack', 'scipy.interpolate.polyint', 'scipy.interpolate._ppoly', 'scipy.interpolate.fitpack2', 'scipy.interpolate.interpnd', 'scipy.interpolate.interpolate', 'scipy.interpolate.rbf', 'scipy.interpolate._cubic', 'scipy.interpolate.ndgriddata', 'scipy.interpolate._pade', 'scipy.interpolate', 'scipy.special.cython_special', 'scipy.stats._stats', 'scipy.stats._rvs_sampling', 'scipy.stats._tukeylambda_stats', 'scipy.stats._ksstats', 'scipy.stats._continuous_distns', 'scipy.stats._discrete_distns', 'scipy.stats.distributions', 'scipy._lib._bunch', 'scipy.stats._stats_mstats_common', 'scipy.stats.mstats_basic', 'scipy.stats._wilcoxon_data', 'scipy.stats._hypotests', 'scipy.stats.stats', 'scipy.stats.statlib', 'scipy.stats.contingency', 'scipy.stats.morestats', 'scipy.stats._binned_statistic', 'scipy.stats.mvn', 'scipy.stats.kde', 'scipy.stats.mstats_extras', 'scipy.stats.mstats', 'scipy.stats._multivariate', 'scipy.stats', 'gensim.parsing.porter', 'gensim.utils', 'gensim.parsing.preprocessing', 'gensim.parsing', 'gensim._matutils', 'gensim.corpora._mmreader', 'gensim.matutils', 'gensim.interfaces', 'gensim.corpora.indexedcorpus', 'gensim.corpora.mmcorpus', 'gensim.corpora.bleicorpus', 'gensim.corpora.svmlightcorpus', 'gensim.corpora.lowcorpus', 'gensim.corpora.dictionary', 'gensim.corpora.hashdictionary', 'xml.etree', 'xml.etree.ElementPath', 'pyexpat.errors', 'pyexpat.model', 'pyexpat', '_elementtree', 'xml.etree.ElementTree', 'gensim.corpora.textcorpus', 'gensim.corpora.wikicorpus', 'gensim.corpora.ucicorpus', 'gensim.corpora.malletcorpus', 'gensim.corpora', 'gensim.topic_coherence', 'gensim.topic_coherence.segmentation', 'gensim.models.keyedvectors', 'gensim.models.word2vec_inner', 'gensim.models.word2vec_corpusfile', 'gensim.models.word2vec', 'gensim.topic_coherence.text_analysis', 'gensim.topic_coherence.probability_estimation', 'gensim.topic_coherence.direct_confirmation_measure', 'gensim.topic_coherence.indirect_confirmation_measure', 'gensim.topic_coherence.aggregation', 'gensim.models.coherencemodel', 'gensim.models.basemodel', 'gensim.models.callbacks', 'gensim.models.ldamodel', 'gensim.models.hdpmodel', 'scipy.sparse.sparsetools', 'gensim.models.lsimodel', 'gensim.models.tfidfmodel', 'gensim.models.rpmodel', 'gensim.models.logentropy_model', 'gensim.models.doc2vec_inner', 'gensim.models.doc2vec_corpusfile', 'gensim.models.doc2vec', 'gensim.models.ldamulticore', 'gensim.models.phrases', 'gensim.models.normmodel', 'gensim.models.atmodel', 'gensim.models.ldaseqmodel', 'gensim.models._fasttext_bin', 'gensim.models.fasttext_inner', 'gensim.models.fasttext_corpusfile', 'gensim.models.fasttext', 'gensim.models.translation_matrix', 'gensim.models', 'Levenshtein._levenshtein', 'Levenshtein', 'gensim.similarities.termsim', 'gensim.similarities.levenshtein', 'gensim.similarities.docsim', 'gensim.similarities', 'gensim', 'semantic_version.base', 'semantic_version', 'sklearn._config', 'sklearn._distributor_init', 'sklearn.__check_build._check_build', 'sklearn.__check_build', 'sklearn.utils.murmurhash', 'joblib.hashing', 'joblib.disk', 'joblib.logger', 'joblib.func_inspect', 'joblib.backports', 'joblib.compressor', 'joblib.numpy_pickle_utils', 'joblib.numpy_pickle_compat', 'joblib.numpy_pickle', 'joblib._store_backends', 'joblib.memory', 'joblib._multiprocessing_helpers', 'joblib._deprecated_my_exceptions', 'joblib.my_exceptions', 'joblib.externals', 'joblib.externals.loky._base', 'joblib.externals.loky.backend.compat_posix', 'joblib.externals.loky.backend.compat', 'joblib.externals.loky.backend.process', 'joblib.externals.loky.backend.context', 'multiprocessing.synchronize', 'joblib.externals.loky.backend', 'joblib.externals.loky.backend._posix_reduction', 'joblib.externals.cloudpickle.compat', 'typing_extensions', 'joblib.externals.cloudpickle.cloudpickle', 'joblib.externals.cloudpickle.cloudpickle_fast', 'joblib.externals.cloudpickle', 'joblib.externals.loky.backend.reduction', 'multiprocessing.queues', 'joblib.externals.loky.backend.queues', 'psutil._common', 'psutil._compat', 'psutil._psposix', 'psutil._psutil_linux', 'psutil._psutil_posix', 'psutil._pslinux', 'psutil', 'joblib.externals.loky.backend.utils', 'concurrent.futures.process', 'joblib.externals.loky.process_executor', 'joblib.externals.loky.reusable_executor', 'joblib.externals.loky.cloudpickle_wrapper', 'joblib.externals.loky', 'joblib.externals.loky.backend.spawn', 'joblib.externals.loky.backend.resource_tracker', 'joblib._memmapping_reducer', 'joblib.pool', 'joblib.executor', 'joblib._parallel_backends', 'joblib.parallel', 'joblib', 'sklearn.utils.deprecation', 'xml.parsers', 'xml.parsers.expat.model', 'xml.parsers.expat.errors', 'xml.parsers.expat', 'plistlib', 'pkg_resources.extern', 'pkg_resources._vendor', 'pkg_resources.extern.six', 'pkg_resources._vendor.six', 'pkg_resources.extern.six.moves', 'pkg_resources._vendor.six.moves', 'pkg_resources.py31compat', 'pkg_resources.extern.appdirs', 'pkg_resources._vendor.packaging.__about__', 'pkg_resources.extern.packaging', 'pkg_resources.extern.packaging._structures', 'pkg_resources.extern.packaging.version', 'pkg_resources.extern.packaging._compat', 'pkg_resources.extern.packaging.specifiers', 'pkg_resources.extern.pyparsing', 'pkg_resources.extern.six.moves.urllib', 'pkg_resources.extern.packaging.markers', 'pkg_resources.extern.packaging.requirements', 'pkg_resources.py2_warn', 'pkg_resources', 'sklearn.utils.fixes', 'sklearn.exceptions', 'sklearn.utils.validation', 'sklearn.utils.class_weight', 'sklearn.utils._joblib', 'sklearn.utils._estimator_html_repr', 'sklearn.utils', 'sklearn.utils._tags', 'sklearn.base', 'sklearn.utils._openmp_helpers', 'sklearn.utils._show_versions', 'sklearn', 'sklearn.feature_extraction._dict_vectorizer', 'sklearn.feature_extraction._hashing_fast', 'sklearn.feature_extraction._hash', 'sklearn.feature_extraction.image', 'sklearn.preprocessing._function_transformer', 'sklearn.utils._logistic_sigmoid', 'sklearn.utils.sparsefuncs_fast', 'sklearn.utils.extmath', 'sklearn.utils.sparsefuncs', 'sklearn.preprocessing._csr_polynomial_expansion', 'sklearn.utils._encode', 'sklearn.preprocessing._encoders', 'sklearn.preprocessing._data', 'sklearn.utils.multiclass', 'sklearn.preprocessing._label', 'sklearn.preprocessing._discretization', 'sklearn.preprocessing', 'sklearn.feature_extraction._stop_words', 'sklearn.feature_extraction.text', 'sklearn.feature_extraction', 'wefe.query', 'wefe.word_embedding_model', 'wefe.metrics.base_metric', 'wefe.metrics.WEAT', 'wefe.metrics.RND', 'sklearn.utils._random', 'sklearn.utils._seq_dataset', 'sklearn.linear_model._base', 'sklearn.linear_model._bayes', 'sklearn.utils._cython_blas', 'sklearn.utils.arrayfuncs', 'sklearn.model_selection._split', 'sklearn.utils.metaestimators', 'sklearn.metrics._base', 'sklearn.metrics._ranking', 'sklearn.metrics._classification', 'sklearn.metrics.cluster._expected_mutual_info_fast', 'sklearn.metrics.cluster._supervised', 'sklearn.utils._mask', 'sklearn.metrics._pairwise_fast', 'sklearn.metrics.pairwise', 'sklearn.metrics.cluster._unsupervised', 'sklearn.metrics.cluster._bicluster', 'sklearn.metrics.cluster', 'sklearn._loss', 'sklearn._loss.glm_distribution', 'sklearn.utils.stats', 'sklearn.metrics._regression', 'sklearn.metrics._scorer', 'sklearn.metrics._plot', 'sklearn.metrics._plot.base', 'sklearn.metrics._plot.det_curve', 'sklearn.metrics._plot.roc_curve', 'sklearn.metrics._plot.precision_recall_curve', 'sklearn.metrics._plot.confusion_matrix', 'sklearn.metrics', 'sklearn.model_selection._validation', 'sklearn.utils.random', 'sklearn.model_selection._search', 'sklearn.model_selection', 'sklearn.linear_model._least_angle', 'sklearn.linear_model._cd_fast', 'sklearn.linear_model._coordinate_descent', 'sklearn.utils.optimize', 'sklearn.linear_model._glm.link', 'sklearn.linear_model._glm.glm', 'sklearn.linear_model._glm', 'sklearn.linear_model._huber', 'sklearn.utils._weight_vector', 'sklearn.linear_model._sgd_fast', 'sklearn.linear_model._stochastic_gradient', 'sklearn.linear_model._sag_fast', 'sklearn.linear_model._sag', 'sklearn.linear_model._ridge', 'sklearn.svm._libsvm', 'sklearn.svm._liblinear', 'sklearn.svm._libsvm_sparse', 'sklearn.svm._base', 'sklearn.svm._classes', 'sklearn.svm._bounds', 'sklearn.svm', 'sklearn.linear_model._logistic', 'sklearn.linear_model._omp', 'sklearn.linear_model._passive_aggressive', 'sklearn.linear_model._perceptron', 'sklearn.linear_model._ransac', 'sklearn.linear_model._theil_sen', 'sklearn.linear_model', 'wefe.metrics.RNSB', 'wefe.metrics.MAC', 'wefe.metrics.ECT', 'wefe.metrics', 'wefe.datasets.datasets', 'wefe.datasets', 'wefe._version', 'wefe', '_plotly_utils', '_plotly_utils.importers', 'plotly', '_plotly_utils.optional_imports', 'plotly.optional_imports', 'plotly.graph_objs', 'PIL._version', 'PIL', '_plotly_utils.basevalidators', 'plotly.io._templates', 'plotly.io', 'plotly.express._special_inputs', '_plotly_utils.exceptions', '_plotly_utils.colors._swatches', '_plotly_utils.colors.colorbrewer', '_plotly_utils.colors.carto', '_plotly_utils.colors.qualitative', '_plotly_utils.colors.plotlyjs', '_plotly_utils.colors.cmocean', '_plotly_utils.colors.sequential', '_plotly_utils.colors.diverging', '_plotly_utils.colors.cyclical', '_plotly_utils.colors', 'plotly.colors', 'plotly.subplots', '_plotly_utils.utils', 'plotly.shapeannotation', 'plotly.basedatatypes', 'plotly.graph_objs._scatter', 'plotly.graph_objs._scattergl', 'plotly.graph_objs._bar', 'plotly.graph_objs._funnel', 'plotly.graph_objs._box', 'plotly.graph_objs._violin', 'plotly.graph_objs._histogram', 'plotly.graph_objs._histogram2d', 'plotly.graph_objs._histogram2dcontour', 'plotly.express._core', 'plotly.express.imshow_utils', '_plotly_utils.png', 'PIL.ImageMode', 'PIL.TiffTags', 'PIL._binary', 'PIL._util', 'PIL._imaging', 'cffi.lock', 'cffi.error', 'cffi.model', 'cffi.api', 'cffi', 'PIL.Image', '_plotly_utils.data_utils', 'plotly.utils', 'plotly.express._imshow', 'plotly.express._doc', 'plotly.express._chart_types', 'plotly.data', 'plotly.express.data', 'plotly.express.colors', 'plotly.express', 'plotly.graph_objects', 'wefe.utils', 'gensim.downloader', 'gensim.test', 'gensim.test.utils', 'training', 'matplotlib', 'matplotlib.cbook.deprecation', 'matplotlib.cbook', 'matplotlib._animation_data', 'matplotlib.animation', 'pyparsing', 'matplotlib.fontconfig_pattern', 'matplotlib.docstring', 'matplotlib._color_data', 'matplotlib.colors', 'cycler', 'matplotlib.rcsetup', 'matplotlib._version', 'matplotlib.ft2font', 'kiwisolver']\n",
      "DEBUG:matplotlib:CACHEDIR=/home/vente/.cache/matplotlib\n",
      "DEBUG:matplotlib.font_manager:Using fontManager instance from /home/vente/.cache/matplotlib/fontlist-v330.json\n",
      "DEBUG:matplotlib.pyplot:Loaded backend module://ipykernel.pylab.backend_inline version unknown.\n",
      "DEBUG:matplotlib.pyplot:Loaded backend module://ipykernel.pylab.backend_inline version unknown.\n",
      "DEBUG:matplotlib.pyplot:Loaded backend pgf version unknown.\n"
     ]
    }
   ],
   "source": [
    "import pandas as pd\n",
    "from training import RESULTS_DIR\n",
    "from pathlib import Path\n",
    "from IPython.display import display\n",
    "import matplotlib.pyplot as plt\n",
    "\n",
    "import seaborn as sns\n",
    "\n",
    "import matplotlib.pyplot as plt\n",
    "\n",
    "import matplotlib\n",
    "\n",
    "matplotlib.use(\"pgf\")\n",
    "matplotlib.rcParams.update({\n",
    "    \"pgf.texsystem\": \"pdflatex\",\n",
    "    'font.family': 'serif',\n",
    "    'text.usetex': True,\n",
    "    'pgf.rcfonts': False,\n",
    "})"
   ]
  },
  {
   "cell_type": "code",
   "execution_count": 2,
   "metadata": {},
   "outputs": [],
   "source": [
    "def load_latest():\n",
    "    l = max(filter(lambda x: not x.name.endswith(\".csv\"), Path(RESULTS_DIR).iterdir()))\n",
    "    print(l)\n",
    "    return pd.read_pickle(l)"
   ]
  },
  {
   "cell_type": "code",
   "execution_count": 3,
   "metadata": {},
   "outputs": [
    {
     "output_type": "stream",
     "name": "stdout",
     "text": [
      "['architecture', 'window_size', 'dataset', 'n_epochs', 'vector_dims', 'dset_fname', 'gender_results', 'analogy', 'word_sim']\n"
     ]
    },
    {
     "output_type": "execute_result",
     "data": {
      "text/plain": [
       "                                 architecture window_size  \\\n",
       "0   <class 'gensim.models.word2vec.Word2Vec'>           1   \n",
       "1   <class 'gensim.models.word2vec.Word2Vec'>           5   \n",
       "2   <class 'gensim.models.word2vec.Word2Vec'>          10   \n",
       "3   <class 'gensim.models.word2vec.Word2Vec'>          15   \n",
       "4   <class 'gensim.models.word2vec.Word2Vec'>          20   \n",
       "5   <class 'gensim.models.word2vec.Word2Vec'>          25   \n",
       "6   <class 'gensim.models.word2vec.Word2Vec'>          30   \n",
       "7   <class 'gensim.models.fasttext.FastText'>           1   \n",
       "8   <class 'gensim.models.fasttext.FastText'>           5   \n",
       "9   <class 'gensim.models.fasttext.FastText'>          10   \n",
       "10  <class 'gensim.models.fasttext.FastText'>          15   \n",
       "11  <class 'gensim.models.fasttext.FastText'>          20   \n",
       "12  <class 'gensim.models.fasttext.FastText'>          25   \n",
       "13  <class 'gensim.models.fasttext.FastText'>          30   \n",
       "\n",
       "                                              dataset n_epochs vector_dims  \\\n",
       "0   [<__main__.WikiPartitionCorpus object at 0x7f1...        1         300   \n",
       "1   [<__main__.WikiPartitionCorpus object at 0x7f1...        1         300   \n",
       "2   [<__main__.WikiPartitionCorpus object at 0x7f1...        1         300   \n",
       "3   [<__main__.WikiPartitionCorpus object at 0x7f1...        1         300   \n",
       "4   [<__main__.WikiPartitionCorpus object at 0x7f1...        1         300   \n",
       "5   [<__main__.WikiPartitionCorpus object at 0x7f1...        1         300   \n",
       "6   [<__main__.WikiPartitionCorpus object at 0x7f1...        1         300   \n",
       "7   [<__main__.WikiPartitionCorpus object at 0x7f1...        1         300   \n",
       "8   [<__main__.WikiPartitionCorpus object at 0x7f1...        1         300   \n",
       "9   [<__main__.WikiPartitionCorpus object at 0x7f1...        1         300   \n",
       "10  [<__main__.WikiPartitionCorpus object at 0x7f1...        1         300   \n",
       "11  [<__main__.WikiPartitionCorpus object at 0x7f1...        1         300   \n",
       "12  [<__main__.WikiPartitionCorpus object at 0x7f1...        1         300   \n",
       "13  [<__main__.WikiPartitionCorpus object at 0x7f1...        1         300   \n",
       "\n",
       "                                        dset_fname  \\\n",
       "0   /media/vente/Data/text/normalized_deaccent.txt   \n",
       "1   /media/vente/Data/text/normalized_deaccent.txt   \n",
       "2   /media/vente/Data/text/normalized_deaccent.txt   \n",
       "3   /media/vente/Data/text/normalized_deaccent.txt   \n",
       "4   /media/vente/Data/text/normalized_deaccent.txt   \n",
       "5   /media/vente/Data/text/normalized_deaccent.txt   \n",
       "6   /media/vente/Data/text/normalized_deaccent.txt   \n",
       "7   /media/vente/Data/text/normalized_deaccent.txt   \n",
       "8   /media/vente/Data/text/normalized_deaccent.txt   \n",
       "9   /media/vente/Data/text/normalized_deaccent.txt   \n",
       "10  /media/vente/Data/text/normalized_deaccent.txt   \n",
       "11  /media/vente/Data/text/normalized_deaccent.txt   \n",
       "12  /media/vente/Data/text/normalized_deaccent.txt   \n",
       "13  /media/vente/Data/text/normalized_deaccent.txt   \n",
       "\n",
       "                                       gender_results  \\\n",
       "0                                             quer...   \n",
       "1                                             quer...   \n",
       "2                                             quer...   \n",
       "3                                             quer...   \n",
       "4                                             quer...   \n",
       "5                                             quer...   \n",
       "6                                             quer...   \n",
       "7                                             quer...   \n",
       "8                                             quer...   \n",
       "9                                             quer...   \n",
       "10                                            quer...   \n",
       "11                                            quer...   \n",
       "12                                            quer...   \n",
       "13                                            quer...   \n",
       "\n",
       "                                              analogy  \\\n",
       "0   (0.14285714285714285, [{'section': 'capital-co...   \n",
       "1   (0.2200675399099468, [{'section': 'capital-com...   \n",
       "2   (0.2396131805157593, [{'section': 'capital-com...   \n",
       "3   (0.25440032746623004, [{'section': 'capital-co...   \n",
       "4   (0.25644699140401145, [{'section': 'capital-co...   \n",
       "5   (0.2540933278755628, [{'section': 'capital-com...   \n",
       "6   (0.2527629963160049, [{'section': 'capital-com...   \n",
       "7   (0.2957941056078592, [{'section': 'capital-com...   \n",
       "8   (0.3055157593123209, [{'section': 'capital-com...   \n",
       "9   (0.2987106017191977, [{'section': 'capital-com...   \n",
       "10  (0.2848444535407286, [{'section': 'capital-com...   \n",
       "11  (0.2797277936962751, [{'section': 'capital-com...   \n",
       "12  (0.27235980352026196, [{'section': 'capital-co...   \n",
       "13  (0.26652681129758493, [{'section': 'capital-co...   \n",
       "\n",
       "                                             word_sim  \n",
       "0   ((0.4639922051294948, 3.0176848765016936e-20),...  \n",
       "1   ((0.608231743845395, 4.301838726844218e-37), (...  \n",
       "2   ((0.6549312088824, 1.2867268959048902e-44), (0...  \n",
       "3   ((0.6618509353377519, 7.569159815733687e-46), ...  \n",
       "4   ((0.6781126835811997, 7.151161053600646e-49), ...  \n",
       "5   ((0.6679120377062047, 5.943674019148265e-47), ...  \n",
       "6   ((0.676107711881724, 1.7290459722847042e-48), ...  \n",
       "7   ((0.4174206396228205, 2.573981787419274e-16), ...  \n",
       "8   ((0.521162025429367, 5.670974301519911e-26), (...  \n",
       "9   ((0.5649976572684519, 3.687848016247363e-31), ...  \n",
       "10  ((0.5985656042889136, 1.0933126049258807e-35),...  \n",
       "11  ((0.5929465499421315, 6.821192816239742e-35), ...  \n",
       "12  ((0.5815959972498207, 2.47354430277068e-33), (...  \n",
       "13  ((0.6008581515047121, 5.1264250782788866e-36),...  "
      ],
      "text/html": "<div>\n<style scoped>\n    .dataframe tbody tr th:only-of-type {\n        vertical-align: middle;\n    }\n\n    .dataframe tbody tr th {\n        vertical-align: top;\n    }\n\n    .dataframe thead th {\n        text-align: right;\n    }\n</style>\n<table border=\"1\" class=\"dataframe\">\n  <thead>\n    <tr style=\"text-align: right;\">\n      <th></th>\n      <th>architecture</th>\n      <th>window_size</th>\n      <th>dataset</th>\n      <th>n_epochs</th>\n      <th>vector_dims</th>\n      <th>dset_fname</th>\n      <th>gender_results</th>\n      <th>analogy</th>\n      <th>word_sim</th>\n    </tr>\n  </thead>\n  <tbody>\n    <tr>\n      <th>0</th>\n      <td>&lt;class 'gensim.models.word2vec.Word2Vec'&gt;</td>\n      <td>1</td>\n      <td>[&lt;__main__.WikiPartitionCorpus object at 0x7f1...</td>\n      <td>1</td>\n      <td>300</td>\n      <td>/media/vente/Data/text/normalized_deaccent.txt</td>\n      <td>quer...</td>\n      <td>(0.14285714285714285, [{'section': 'capital-co...</td>\n      <td>((0.4639922051294948, 3.0176848765016936e-20),...</td>\n    </tr>\n    <tr>\n      <th>1</th>\n      <td>&lt;class 'gensim.models.word2vec.Word2Vec'&gt;</td>\n      <td>5</td>\n      <td>[&lt;__main__.WikiPartitionCorpus object at 0x7f1...</td>\n      <td>1</td>\n      <td>300</td>\n      <td>/media/vente/Data/text/normalized_deaccent.txt</td>\n      <td>quer...</td>\n      <td>(0.2200675399099468, [{'section': 'capital-com...</td>\n      <td>((0.608231743845395, 4.301838726844218e-37), (...</td>\n    </tr>\n    <tr>\n      <th>2</th>\n      <td>&lt;class 'gensim.models.word2vec.Word2Vec'&gt;</td>\n      <td>10</td>\n      <td>[&lt;__main__.WikiPartitionCorpus object at 0x7f1...</td>\n      <td>1</td>\n      <td>300</td>\n      <td>/media/vente/Data/text/normalized_deaccent.txt</td>\n      <td>quer...</td>\n      <td>(0.2396131805157593, [{'section': 'capital-com...</td>\n      <td>((0.6549312088824, 1.2867268959048902e-44), (0...</td>\n    </tr>\n    <tr>\n      <th>3</th>\n      <td>&lt;class 'gensim.models.word2vec.Word2Vec'&gt;</td>\n      <td>15</td>\n      <td>[&lt;__main__.WikiPartitionCorpus object at 0x7f1...</td>\n      <td>1</td>\n      <td>300</td>\n      <td>/media/vente/Data/text/normalized_deaccent.txt</td>\n      <td>quer...</td>\n      <td>(0.25440032746623004, [{'section': 'capital-co...</td>\n      <td>((0.6618509353377519, 7.569159815733687e-46), ...</td>\n    </tr>\n    <tr>\n      <th>4</th>\n      <td>&lt;class 'gensim.models.word2vec.Word2Vec'&gt;</td>\n      <td>20</td>\n      <td>[&lt;__main__.WikiPartitionCorpus object at 0x7f1...</td>\n      <td>1</td>\n      <td>300</td>\n      <td>/media/vente/Data/text/normalized_deaccent.txt</td>\n      <td>quer...</td>\n      <td>(0.25644699140401145, [{'section': 'capital-co...</td>\n      <td>((0.6781126835811997, 7.151161053600646e-49), ...</td>\n    </tr>\n    <tr>\n      <th>5</th>\n      <td>&lt;class 'gensim.models.word2vec.Word2Vec'&gt;</td>\n      <td>25</td>\n      <td>[&lt;__main__.WikiPartitionCorpus object at 0x7f1...</td>\n      <td>1</td>\n      <td>300</td>\n      <td>/media/vente/Data/text/normalized_deaccent.txt</td>\n      <td>quer...</td>\n      <td>(0.2540933278755628, [{'section': 'capital-com...</td>\n      <td>((0.6679120377062047, 5.943674019148265e-47), ...</td>\n    </tr>\n    <tr>\n      <th>6</th>\n      <td>&lt;class 'gensim.models.word2vec.Word2Vec'&gt;</td>\n      <td>30</td>\n      <td>[&lt;__main__.WikiPartitionCorpus object at 0x7f1...</td>\n      <td>1</td>\n      <td>300</td>\n      <td>/media/vente/Data/text/normalized_deaccent.txt</td>\n      <td>quer...</td>\n      <td>(0.2527629963160049, [{'section': 'capital-com...</td>\n      <td>((0.676107711881724, 1.7290459722847042e-48), ...</td>\n    </tr>\n    <tr>\n      <th>7</th>\n      <td>&lt;class 'gensim.models.fasttext.FastText'&gt;</td>\n      <td>1</td>\n      <td>[&lt;__main__.WikiPartitionCorpus object at 0x7f1...</td>\n      <td>1</td>\n      <td>300</td>\n      <td>/media/vente/Data/text/normalized_deaccent.txt</td>\n      <td>quer...</td>\n      <td>(0.2957941056078592, [{'section': 'capital-com...</td>\n      <td>((0.4174206396228205, 2.573981787419274e-16), ...</td>\n    </tr>\n    <tr>\n      <th>8</th>\n      <td>&lt;class 'gensim.models.fasttext.FastText'&gt;</td>\n      <td>5</td>\n      <td>[&lt;__main__.WikiPartitionCorpus object at 0x7f1...</td>\n      <td>1</td>\n      <td>300</td>\n      <td>/media/vente/Data/text/normalized_deaccent.txt</td>\n      <td>quer...</td>\n      <td>(0.3055157593123209, [{'section': 'capital-com...</td>\n      <td>((0.521162025429367, 5.670974301519911e-26), (...</td>\n    </tr>\n    <tr>\n      <th>9</th>\n      <td>&lt;class 'gensim.models.fasttext.FastText'&gt;</td>\n      <td>10</td>\n      <td>[&lt;__main__.WikiPartitionCorpus object at 0x7f1...</td>\n      <td>1</td>\n      <td>300</td>\n      <td>/media/vente/Data/text/normalized_deaccent.txt</td>\n      <td>quer...</td>\n      <td>(0.2987106017191977, [{'section': 'capital-com...</td>\n      <td>((0.5649976572684519, 3.687848016247363e-31), ...</td>\n    </tr>\n    <tr>\n      <th>10</th>\n      <td>&lt;class 'gensim.models.fasttext.FastText'&gt;</td>\n      <td>15</td>\n      <td>[&lt;__main__.WikiPartitionCorpus object at 0x7f1...</td>\n      <td>1</td>\n      <td>300</td>\n      <td>/media/vente/Data/text/normalized_deaccent.txt</td>\n      <td>quer...</td>\n      <td>(0.2848444535407286, [{'section': 'capital-com...</td>\n      <td>((0.5985656042889136, 1.0933126049258807e-35),...</td>\n    </tr>\n    <tr>\n      <th>11</th>\n      <td>&lt;class 'gensim.models.fasttext.FastText'&gt;</td>\n      <td>20</td>\n      <td>[&lt;__main__.WikiPartitionCorpus object at 0x7f1...</td>\n      <td>1</td>\n      <td>300</td>\n      <td>/media/vente/Data/text/normalized_deaccent.txt</td>\n      <td>quer...</td>\n      <td>(0.2797277936962751, [{'section': 'capital-com...</td>\n      <td>((0.5929465499421315, 6.821192816239742e-35), ...</td>\n    </tr>\n    <tr>\n      <th>12</th>\n      <td>&lt;class 'gensim.models.fasttext.FastText'&gt;</td>\n      <td>25</td>\n      <td>[&lt;__main__.WikiPartitionCorpus object at 0x7f1...</td>\n      <td>1</td>\n      <td>300</td>\n      <td>/media/vente/Data/text/normalized_deaccent.txt</td>\n      <td>quer...</td>\n      <td>(0.27235980352026196, [{'section': 'capital-co...</td>\n      <td>((0.5815959972498207, 2.47354430277068e-33), (...</td>\n    </tr>\n    <tr>\n      <th>13</th>\n      <td>&lt;class 'gensim.models.fasttext.FastText'&gt;</td>\n      <td>30</td>\n      <td>[&lt;__main__.WikiPartitionCorpus object at 0x7f1...</td>\n      <td>1</td>\n      <td>300</td>\n      <td>/media/vente/Data/text/normalized_deaccent.txt</td>\n      <td>quer...</td>\n      <td>(0.26652681129758493, [{'section': 'capital-co...</td>\n      <td>((0.6008581515047121, 5.1264250782788866e-36),...</td>\n    </tr>\n  </tbody>\n</table>\n</div>"
     },
     "metadata": {},
     "execution_count": 3
    }
   ],
   "source": [
    "df = pd.read_pickle(RESULTS_DIR/\"2021-05-25__02-41-41\")\n",
    "#df = load_latest()\n",
    "print(list(df))\n",
    "df"
   ]
  },
  {
   "cell_type": "code",
   "execution_count": 4,
   "metadata": {},
   "outputs": [
    {
     "output_type": "display_data",
     "data": {
      "text/plain": "                                          query_name    result      weat  \\\n0  male_terms and female_terms wrt career and family  0.126840  0.078486   \n1   male_terms and female_terms wrt science and arts       NaN       NaN   \n2      male_terms and female_terms wrt math and arts  0.373238  0.179473   \n\n   effect_size   p_value  \n0     0.126840  0.396160  \n1          NaN       NaN  \n2     0.373238  0.219078  ",
      "text/html": "<div>\n<style scoped>\n    .dataframe tbody tr th:only-of-type {\n        vertical-align: middle;\n    }\n\n    .dataframe tbody tr th {\n        vertical-align: top;\n    }\n\n    .dataframe thead th {\n        text-align: right;\n    }\n</style>\n<table border=\"1\" class=\"dataframe\">\n  <thead>\n    <tr style=\"text-align: right;\">\n      <th></th>\n      <th>query_name</th>\n      <th>result</th>\n      <th>weat</th>\n      <th>effect_size</th>\n      <th>p_value</th>\n    </tr>\n  </thead>\n  <tbody>\n    <tr>\n      <th>0</th>\n      <td>male_terms and female_terms wrt career and family</td>\n      <td>0.126840</td>\n      <td>0.078486</td>\n      <td>0.126840</td>\n      <td>0.396160</td>\n    </tr>\n    <tr>\n      <th>1</th>\n      <td>male_terms and female_terms wrt science and arts</td>\n      <td>NaN</td>\n      <td>NaN</td>\n      <td>NaN</td>\n      <td>NaN</td>\n    </tr>\n    <tr>\n      <th>2</th>\n      <td>male_terms and female_terms wrt math and arts</td>\n      <td>0.373238</td>\n      <td>0.179473</td>\n      <td>0.373238</td>\n      <td>0.219078</td>\n    </tr>\n  </tbody>\n</table>\n</div>"
     },
     "metadata": {}
    },
    {
     "output_type": "display_data",
     "data": {
      "text/plain": "                                          query_name    result      weat  \\\n0  male_terms and female_terms wrt career and family  0.657871  0.659264   \n1   male_terms and female_terms wrt science and arts       NaN       NaN   \n2      male_terms and female_terms wrt math and arts  0.861473  0.602889   \n\n   effect_size   p_value  \n0     0.657871  0.095890  \n1          NaN       NaN  \n2     0.861473  0.044496  ",
      "text/html": "<div>\n<style scoped>\n    .dataframe tbody tr th:only-of-type {\n        vertical-align: middle;\n    }\n\n    .dataframe tbody tr th {\n        vertical-align: top;\n    }\n\n    .dataframe thead th {\n        text-align: right;\n    }\n</style>\n<table border=\"1\" class=\"dataframe\">\n  <thead>\n    <tr style=\"text-align: right;\">\n      <th></th>\n      <th>query_name</th>\n      <th>result</th>\n      <th>weat</th>\n      <th>effect_size</th>\n      <th>p_value</th>\n    </tr>\n  </thead>\n  <tbody>\n    <tr>\n      <th>0</th>\n      <td>male_terms and female_terms wrt career and family</td>\n      <td>0.657871</td>\n      <td>0.659264</td>\n      <td>0.657871</td>\n      <td>0.095890</td>\n    </tr>\n    <tr>\n      <th>1</th>\n      <td>male_terms and female_terms wrt science and arts</td>\n      <td>NaN</td>\n      <td>NaN</td>\n      <td>NaN</td>\n      <td>NaN</td>\n    </tr>\n    <tr>\n      <th>2</th>\n      <td>male_terms and female_terms wrt math and arts</td>\n      <td>0.861473</td>\n      <td>0.602889</td>\n      <td>0.861473</td>\n      <td>0.044496</td>\n    </tr>\n  </tbody>\n</table>\n</div>"
     },
     "metadata": {}
    },
    {
     "output_type": "display_data",
     "data": {
      "text/plain": "                                          query_name    result      weat  \\\n0  male_terms and female_terms wrt career and family  0.910940  0.898738   \n1   male_terms and female_terms wrt science and arts       NaN       NaN   \n2      male_terms and female_terms wrt math and arts  0.902469  0.697839   \n\n   effect_size   p_value  \n0     0.910940  0.036996  \n1          NaN       NaN  \n2     0.902469  0.033197  ",
      "text/html": "<div>\n<style scoped>\n    .dataframe tbody tr th:only-of-type {\n        vertical-align: middle;\n    }\n\n    .dataframe tbody tr th {\n        vertical-align: top;\n    }\n\n    .dataframe thead th {\n        text-align: right;\n    }\n</style>\n<table border=\"1\" class=\"dataframe\">\n  <thead>\n    <tr style=\"text-align: right;\">\n      <th></th>\n      <th>query_name</th>\n      <th>result</th>\n      <th>weat</th>\n      <th>effect_size</th>\n      <th>p_value</th>\n    </tr>\n  </thead>\n  <tbody>\n    <tr>\n      <th>0</th>\n      <td>male_terms and female_terms wrt career and family</td>\n      <td>0.910940</td>\n      <td>0.898738</td>\n      <td>0.910940</td>\n      <td>0.036996</td>\n    </tr>\n    <tr>\n      <th>1</th>\n      <td>male_terms and female_terms wrt science and arts</td>\n      <td>NaN</td>\n      <td>NaN</td>\n      <td>NaN</td>\n      <td>NaN</td>\n    </tr>\n    <tr>\n      <th>2</th>\n      <td>male_terms and female_terms wrt math and arts</td>\n      <td>0.902469</td>\n      <td>0.697839</td>\n      <td>0.902469</td>\n      <td>0.033197</td>\n    </tr>\n  </tbody>\n</table>\n</div>"
     },
     "metadata": {}
    },
    {
     "output_type": "display_data",
     "data": {
      "text/plain": "                                          query_name    result      weat  \\\n0  male_terms and female_terms wrt career and family  0.935385  1.083973   \n1   male_terms and female_terms wrt science and arts       NaN       NaN   \n2      male_terms and female_terms wrt math and arts  1.021056  0.749892   \n\n   effect_size   p_value  \n0     0.935385  0.033097  \n1          NaN       NaN  \n2     1.021056  0.020798  ",
      "text/html": "<div>\n<style scoped>\n    .dataframe tbody tr th:only-of-type {\n        vertical-align: middle;\n    }\n\n    .dataframe tbody tr th {\n        vertical-align: top;\n    }\n\n    .dataframe thead th {\n        text-align: right;\n    }\n</style>\n<table border=\"1\" class=\"dataframe\">\n  <thead>\n    <tr style=\"text-align: right;\">\n      <th></th>\n      <th>query_name</th>\n      <th>result</th>\n      <th>weat</th>\n      <th>effect_size</th>\n      <th>p_value</th>\n    </tr>\n  </thead>\n  <tbody>\n    <tr>\n      <th>0</th>\n      <td>male_terms and female_terms wrt career and family</td>\n      <td>0.935385</td>\n      <td>1.083973</td>\n      <td>0.935385</td>\n      <td>0.033097</td>\n    </tr>\n    <tr>\n      <th>1</th>\n      <td>male_terms and female_terms wrt science and arts</td>\n      <td>NaN</td>\n      <td>NaN</td>\n      <td>NaN</td>\n      <td>NaN</td>\n    </tr>\n    <tr>\n      <th>2</th>\n      <td>male_terms and female_terms wrt math and arts</td>\n      <td>1.021056</td>\n      <td>0.749892</td>\n      <td>1.021056</td>\n      <td>0.020798</td>\n    </tr>\n  </tbody>\n</table>\n</div>"
     },
     "metadata": {}
    },
    {
     "output_type": "display_data",
     "data": {
      "text/plain": "                                          query_name    result      weat  \\\n0  male_terms and female_terms wrt career and family  0.906990  0.990542   \n1   male_terms and female_terms wrt science and arts       NaN       NaN   \n2      male_terms and female_terms wrt math and arts  1.287203  1.069758   \n\n   effect_size   p_value  \n0     0.906990  0.037496  \n1          NaN       NaN  \n2     1.287203  0.005299  ",
      "text/html": "<div>\n<style scoped>\n    .dataframe tbody tr th:only-of-type {\n        vertical-align: middle;\n    }\n\n    .dataframe tbody tr th {\n        vertical-align: top;\n    }\n\n    .dataframe thead th {\n        text-align: right;\n    }\n</style>\n<table border=\"1\" class=\"dataframe\">\n  <thead>\n    <tr style=\"text-align: right;\">\n      <th></th>\n      <th>query_name</th>\n      <th>result</th>\n      <th>weat</th>\n      <th>effect_size</th>\n      <th>p_value</th>\n    </tr>\n  </thead>\n  <tbody>\n    <tr>\n      <th>0</th>\n      <td>male_terms and female_terms wrt career and family</td>\n      <td>0.906990</td>\n      <td>0.990542</td>\n      <td>0.906990</td>\n      <td>0.037496</td>\n    </tr>\n    <tr>\n      <th>1</th>\n      <td>male_terms and female_terms wrt science and arts</td>\n      <td>NaN</td>\n      <td>NaN</td>\n      <td>NaN</td>\n      <td>NaN</td>\n    </tr>\n    <tr>\n      <th>2</th>\n      <td>male_terms and female_terms wrt math and arts</td>\n      <td>1.287203</td>\n      <td>1.069758</td>\n      <td>1.287203</td>\n      <td>0.005299</td>\n    </tr>\n  </tbody>\n</table>\n</div>"
     },
     "metadata": {}
    },
    {
     "output_type": "display_data",
     "data": {
      "text/plain": "                                          query_name    result      weat  \\\n0  male_terms and female_terms wrt career and family  0.808959  0.993914   \n1   male_terms and female_terms wrt science and arts       NaN       NaN   \n2      male_terms and female_terms wrt math and arts  0.982122  0.796865   \n\n   effect_size   p_value  \n0     0.808959  0.054795  \n1          NaN       NaN  \n2     0.982122  0.026597  ",
      "text/html": "<div>\n<style scoped>\n    .dataframe tbody tr th:only-of-type {\n        vertical-align: middle;\n    }\n\n    .dataframe tbody tr th {\n        vertical-align: top;\n    }\n\n    .dataframe thead th {\n        text-align: right;\n    }\n</style>\n<table border=\"1\" class=\"dataframe\">\n  <thead>\n    <tr style=\"text-align: right;\">\n      <th></th>\n      <th>query_name</th>\n      <th>result</th>\n      <th>weat</th>\n      <th>effect_size</th>\n      <th>p_value</th>\n    </tr>\n  </thead>\n  <tbody>\n    <tr>\n      <th>0</th>\n      <td>male_terms and female_terms wrt career and family</td>\n      <td>0.808959</td>\n      <td>0.993914</td>\n      <td>0.808959</td>\n      <td>0.054795</td>\n    </tr>\n    <tr>\n      <th>1</th>\n      <td>male_terms and female_terms wrt science and arts</td>\n      <td>NaN</td>\n      <td>NaN</td>\n      <td>NaN</td>\n      <td>NaN</td>\n    </tr>\n    <tr>\n      <th>2</th>\n      <td>male_terms and female_terms wrt math and arts</td>\n      <td>0.982122</td>\n      <td>0.796865</td>\n      <td>0.982122</td>\n      <td>0.026597</td>\n    </tr>\n  </tbody>\n</table>\n</div>"
     },
     "metadata": {}
    },
    {
     "output_type": "display_data",
     "data": {
      "text/plain": "                                          query_name    result      weat  \\\n0  male_terms and female_terms wrt career and family  1.088557  1.247670   \n1   male_terms and female_terms wrt science and arts       NaN       NaN   \n2      male_terms and female_terms wrt math and arts  1.057837  0.824727   \n\n   effect_size   p_value  \n0     1.088557  0.013599  \n1          NaN       NaN  \n2     1.057837  0.016598  ",
      "text/html": "<div>\n<style scoped>\n    .dataframe tbody tr th:only-of-type {\n        vertical-align: middle;\n    }\n\n    .dataframe tbody tr th {\n        vertical-align: top;\n    }\n\n    .dataframe thead th {\n        text-align: right;\n    }\n</style>\n<table border=\"1\" class=\"dataframe\">\n  <thead>\n    <tr style=\"text-align: right;\">\n      <th></th>\n      <th>query_name</th>\n      <th>result</th>\n      <th>weat</th>\n      <th>effect_size</th>\n      <th>p_value</th>\n    </tr>\n  </thead>\n  <tbody>\n    <tr>\n      <th>0</th>\n      <td>male_terms and female_terms wrt career and family</td>\n      <td>1.088557</td>\n      <td>1.247670</td>\n      <td>1.088557</td>\n      <td>0.013599</td>\n    </tr>\n    <tr>\n      <th>1</th>\n      <td>male_terms and female_terms wrt science and arts</td>\n      <td>NaN</td>\n      <td>NaN</td>\n      <td>NaN</td>\n      <td>NaN</td>\n    </tr>\n    <tr>\n      <th>2</th>\n      <td>male_terms and female_terms wrt math and arts</td>\n      <td>1.057837</td>\n      <td>0.824727</td>\n      <td>1.057837</td>\n      <td>0.016598</td>\n    </tr>\n  </tbody>\n</table>\n</div>"
     },
     "metadata": {}
    },
    {
     "output_type": "display_data",
     "data": {
      "text/plain": "                                          query_name    result      weat  \\\n0  male_terms and female_terms wrt career and family  0.280442  0.164974   \n1   male_terms and female_terms wrt science and arts       NaN       NaN   \n2      male_terms and female_terms wrt math and arts  0.169389  0.084212   \n\n   effect_size   p_value  \n0     0.280442  0.284872  \n1          NaN       NaN  \n2     0.169389  0.366563  ",
      "text/html": "<div>\n<style scoped>\n    .dataframe tbody tr th:only-of-type {\n        vertical-align: middle;\n    }\n\n    .dataframe tbody tr th {\n        vertical-align: top;\n    }\n\n    .dataframe thead th {\n        text-align: right;\n    }\n</style>\n<table border=\"1\" class=\"dataframe\">\n  <thead>\n    <tr style=\"text-align: right;\">\n      <th></th>\n      <th>query_name</th>\n      <th>result</th>\n      <th>weat</th>\n      <th>effect_size</th>\n      <th>p_value</th>\n    </tr>\n  </thead>\n  <tbody>\n    <tr>\n      <th>0</th>\n      <td>male_terms and female_terms wrt career and family</td>\n      <td>0.280442</td>\n      <td>0.164974</td>\n      <td>0.280442</td>\n      <td>0.284872</td>\n    </tr>\n    <tr>\n      <th>1</th>\n      <td>male_terms and female_terms wrt science and arts</td>\n      <td>NaN</td>\n      <td>NaN</td>\n      <td>NaN</td>\n      <td>NaN</td>\n    </tr>\n    <tr>\n      <th>2</th>\n      <td>male_terms and female_terms wrt math and arts</td>\n      <td>0.169389</td>\n      <td>0.084212</td>\n      <td>0.169389</td>\n      <td>0.366563</td>\n    </tr>\n  </tbody>\n</table>\n</div>"
     },
     "metadata": {}
    },
    {
     "output_type": "display_data",
     "data": {
      "text/plain": "                                          query_name    result      weat  \\\n0  male_terms and female_terms wrt career and family  0.847674  0.596126   \n1   male_terms and female_terms wrt science and arts       NaN       NaN   \n2      male_terms and female_terms wrt math and arts  0.341684  0.237111   \n\n   effect_size   p_value  \n0     0.847674  0.046095  \n1          NaN       NaN  \n2     0.341684  0.251575  ",
      "text/html": "<div>\n<style scoped>\n    .dataframe tbody tr th:only-of-type {\n        vertical-align: middle;\n    }\n\n    .dataframe tbody tr th {\n        vertical-align: top;\n    }\n\n    .dataframe thead th {\n        text-align: right;\n    }\n</style>\n<table border=\"1\" class=\"dataframe\">\n  <thead>\n    <tr style=\"text-align: right;\">\n      <th></th>\n      <th>query_name</th>\n      <th>result</th>\n      <th>weat</th>\n      <th>effect_size</th>\n      <th>p_value</th>\n    </tr>\n  </thead>\n  <tbody>\n    <tr>\n      <th>0</th>\n      <td>male_terms and female_terms wrt career and family</td>\n      <td>0.847674</td>\n      <td>0.596126</td>\n      <td>0.847674</td>\n      <td>0.046095</td>\n    </tr>\n    <tr>\n      <th>1</th>\n      <td>male_terms and female_terms wrt science and arts</td>\n      <td>NaN</td>\n      <td>NaN</td>\n      <td>NaN</td>\n      <td>NaN</td>\n    </tr>\n    <tr>\n      <th>2</th>\n      <td>male_terms and female_terms wrt math and arts</td>\n      <td>0.341684</td>\n      <td>0.237111</td>\n      <td>0.341684</td>\n      <td>0.251575</td>\n    </tr>\n  </tbody>\n</table>\n</div>"
     },
     "metadata": {}
    },
    {
     "output_type": "display_data",
     "data": {
      "text/plain": "                                          query_name    result      weat  \\\n0  male_terms and female_terms wrt career and family  0.984739  0.848319   \n1   male_terms and female_terms wrt science and arts       NaN       NaN   \n2      male_terms and female_terms wrt math and arts  0.614179  0.528632   \n\n   effect_size   p_value  \n0     0.984739  0.025897  \n1          NaN       NaN  \n2     0.614179  0.108689  ",
      "text/html": "<div>\n<style scoped>\n    .dataframe tbody tr th:only-of-type {\n        vertical-align: middle;\n    }\n\n    .dataframe tbody tr th {\n        vertical-align: top;\n    }\n\n    .dataframe thead th {\n        text-align: right;\n    }\n</style>\n<table border=\"1\" class=\"dataframe\">\n  <thead>\n    <tr style=\"text-align: right;\">\n      <th></th>\n      <th>query_name</th>\n      <th>result</th>\n      <th>weat</th>\n      <th>effect_size</th>\n      <th>p_value</th>\n    </tr>\n  </thead>\n  <tbody>\n    <tr>\n      <th>0</th>\n      <td>male_terms and female_terms wrt career and family</td>\n      <td>0.984739</td>\n      <td>0.848319</td>\n      <td>0.984739</td>\n      <td>0.025897</td>\n    </tr>\n    <tr>\n      <th>1</th>\n      <td>male_terms and female_terms wrt science and arts</td>\n      <td>NaN</td>\n      <td>NaN</td>\n      <td>NaN</td>\n      <td>NaN</td>\n    </tr>\n    <tr>\n      <th>2</th>\n      <td>male_terms and female_terms wrt math and arts</td>\n      <td>0.614179</td>\n      <td>0.528632</td>\n      <td>0.614179</td>\n      <td>0.108689</td>\n    </tr>\n  </tbody>\n</table>\n</div>"
     },
     "metadata": {}
    },
    {
     "output_type": "display_data",
     "data": {
      "text/plain": "                                          query_name    result      weat  \\\n0  male_terms and female_terms wrt career and family  1.111885  0.990298   \n1   male_terms and female_terms wrt science and arts       NaN       NaN   \n2      male_terms and female_terms wrt math and arts  0.501192  0.418359   \n\n   effect_size   p_value  \n0     1.111885  0.012599  \n1          NaN       NaN  \n2     0.501192  0.163984  ",
      "text/html": "<div>\n<style scoped>\n    .dataframe tbody tr th:only-of-type {\n        vertical-align: middle;\n    }\n\n    .dataframe tbody tr th {\n        vertical-align: top;\n    }\n\n    .dataframe thead th {\n        text-align: right;\n    }\n</style>\n<table border=\"1\" class=\"dataframe\">\n  <thead>\n    <tr style=\"text-align: right;\">\n      <th></th>\n      <th>query_name</th>\n      <th>result</th>\n      <th>weat</th>\n      <th>effect_size</th>\n      <th>p_value</th>\n    </tr>\n  </thead>\n  <tbody>\n    <tr>\n      <th>0</th>\n      <td>male_terms and female_terms wrt career and family</td>\n      <td>1.111885</td>\n      <td>0.990298</td>\n      <td>1.111885</td>\n      <td>0.012599</td>\n    </tr>\n    <tr>\n      <th>1</th>\n      <td>male_terms and female_terms wrt science and arts</td>\n      <td>NaN</td>\n      <td>NaN</td>\n      <td>NaN</td>\n      <td>NaN</td>\n    </tr>\n    <tr>\n      <th>2</th>\n      <td>male_terms and female_terms wrt math and arts</td>\n      <td>0.501192</td>\n      <td>0.418359</td>\n      <td>0.501192</td>\n      <td>0.163984</td>\n    </tr>\n  </tbody>\n</table>\n</div>"
     },
     "metadata": {}
    },
    {
     "output_type": "display_data",
     "data": {
      "text/plain": "                                          query_name    result      weat  \\\n0  male_terms and female_terms wrt career and family  1.051417  1.055480   \n1   male_terms and female_terms wrt science and arts       NaN       NaN   \n2      male_terms and female_terms wrt math and arts  0.654049  0.563855   \n\n   effect_size   p_value  \n0     1.051417  0.015998  \n1          NaN       NaN  \n2     0.654049  0.099490  ",
      "text/html": "<div>\n<style scoped>\n    .dataframe tbody tr th:only-of-type {\n        vertical-align: middle;\n    }\n\n    .dataframe tbody tr th {\n        vertical-align: top;\n    }\n\n    .dataframe thead th {\n        text-align: right;\n    }\n</style>\n<table border=\"1\" class=\"dataframe\">\n  <thead>\n    <tr style=\"text-align: right;\">\n      <th></th>\n      <th>query_name</th>\n      <th>result</th>\n      <th>weat</th>\n      <th>effect_size</th>\n      <th>p_value</th>\n    </tr>\n  </thead>\n  <tbody>\n    <tr>\n      <th>0</th>\n      <td>male_terms and female_terms wrt career and family</td>\n      <td>1.051417</td>\n      <td>1.055480</td>\n      <td>1.051417</td>\n      <td>0.015998</td>\n    </tr>\n    <tr>\n      <th>1</th>\n      <td>male_terms and female_terms wrt science and arts</td>\n      <td>NaN</td>\n      <td>NaN</td>\n      <td>NaN</td>\n      <td>NaN</td>\n    </tr>\n    <tr>\n      <th>2</th>\n      <td>male_terms and female_terms wrt math and arts</td>\n      <td>0.654049</td>\n      <td>0.563855</td>\n      <td>0.654049</td>\n      <td>0.099490</td>\n    </tr>\n  </tbody>\n</table>\n</div>"
     },
     "metadata": {}
    },
    {
     "output_type": "display_data",
     "data": {
      "text/plain": "                                          query_name    result      weat  \\\n0  male_terms and female_terms wrt career and family  1.028379  0.948339   \n1   male_terms and female_terms wrt science and arts       NaN       NaN   \n2      male_terms and female_terms wrt math and arts  0.844830  0.707649   \n\n   effect_size   p_value  \n0     1.028379  0.020498  \n1          NaN       NaN  \n2     0.844830  0.045895  ",
      "text/html": "<div>\n<style scoped>\n    .dataframe tbody tr th:only-of-type {\n        vertical-align: middle;\n    }\n\n    .dataframe tbody tr th {\n        vertical-align: top;\n    }\n\n    .dataframe thead th {\n        text-align: right;\n    }\n</style>\n<table border=\"1\" class=\"dataframe\">\n  <thead>\n    <tr style=\"text-align: right;\">\n      <th></th>\n      <th>query_name</th>\n      <th>result</th>\n      <th>weat</th>\n      <th>effect_size</th>\n      <th>p_value</th>\n    </tr>\n  </thead>\n  <tbody>\n    <tr>\n      <th>0</th>\n      <td>male_terms and female_terms wrt career and family</td>\n      <td>1.028379</td>\n      <td>0.948339</td>\n      <td>1.028379</td>\n      <td>0.020498</td>\n    </tr>\n    <tr>\n      <th>1</th>\n      <td>male_terms and female_terms wrt science and arts</td>\n      <td>NaN</td>\n      <td>NaN</td>\n      <td>NaN</td>\n      <td>NaN</td>\n    </tr>\n    <tr>\n      <th>2</th>\n      <td>male_terms and female_terms wrt math and arts</td>\n      <td>0.844830</td>\n      <td>0.707649</td>\n      <td>0.844830</td>\n      <td>0.045895</td>\n    </tr>\n  </tbody>\n</table>\n</div>"
     },
     "metadata": {}
    },
    {
     "output_type": "display_data",
     "data": {
      "text/plain": "                                          query_name    result      weat  \\\n0  male_terms and female_terms wrt career and family  1.131646  1.080267   \n1   male_terms and female_terms wrt science and arts       NaN       NaN   \n2      male_terms and female_terms wrt math and arts  0.345831  0.305719   \n\n   effect_size   p_value  \n0     1.131646  0.012199  \n1          NaN       NaN  \n2     0.345831  0.239876  ",
      "text/html": "<div>\n<style scoped>\n    .dataframe tbody tr th:only-of-type {\n        vertical-align: middle;\n    }\n\n    .dataframe tbody tr th {\n        vertical-align: top;\n    }\n\n    .dataframe thead th {\n        text-align: right;\n    }\n</style>\n<table border=\"1\" class=\"dataframe\">\n  <thead>\n    <tr style=\"text-align: right;\">\n      <th></th>\n      <th>query_name</th>\n      <th>result</th>\n      <th>weat</th>\n      <th>effect_size</th>\n      <th>p_value</th>\n    </tr>\n  </thead>\n  <tbody>\n    <tr>\n      <th>0</th>\n      <td>male_terms and female_terms wrt career and family</td>\n      <td>1.131646</td>\n      <td>1.080267</td>\n      <td>1.131646</td>\n      <td>0.012199</td>\n    </tr>\n    <tr>\n      <th>1</th>\n      <td>male_terms and female_terms wrt science and arts</td>\n      <td>NaN</td>\n      <td>NaN</td>\n      <td>NaN</td>\n      <td>NaN</td>\n    </tr>\n    <tr>\n      <th>2</th>\n      <td>male_terms and female_terms wrt math and arts</td>\n      <td>0.345831</td>\n      <td>0.305719</td>\n      <td>0.345831</td>\n      <td>0.239876</td>\n    </tr>\n  </tbody>\n</table>\n</div>"
     },
     "metadata": {}
    },
    {
     "output_type": "execute_result",
     "data": {
      "text/plain": [
       "                                 architecture window_size  \\\n",
       "0   <class 'gensim.models.word2vec.Word2Vec'>           1   \n",
       "1   <class 'gensim.models.word2vec.Word2Vec'>           5   \n",
       "2   <class 'gensim.models.word2vec.Word2Vec'>          10   \n",
       "3   <class 'gensim.models.word2vec.Word2Vec'>          15   \n",
       "4   <class 'gensim.models.word2vec.Word2Vec'>          20   \n",
       "5   <class 'gensim.models.word2vec.Word2Vec'>          25   \n",
       "6   <class 'gensim.models.word2vec.Word2Vec'>          30   \n",
       "7   <class 'gensim.models.fasttext.FastText'>           1   \n",
       "8   <class 'gensim.models.fasttext.FastText'>           5   \n",
       "9   <class 'gensim.models.fasttext.FastText'>          10   \n",
       "10  <class 'gensim.models.fasttext.FastText'>          15   \n",
       "11  <class 'gensim.models.fasttext.FastText'>          20   \n",
       "12  <class 'gensim.models.fasttext.FastText'>          25   \n",
       "13  <class 'gensim.models.fasttext.FastText'>          30   \n",
       "\n",
       "                                              dataset n_epochs vector_dims  \\\n",
       "0   [<__main__.WikiPartitionCorpus object at 0x7f1...        1         300   \n",
       "1   [<__main__.WikiPartitionCorpus object at 0x7f1...        1         300   \n",
       "2   [<__main__.WikiPartitionCorpus object at 0x7f1...        1         300   \n",
       "3   [<__main__.WikiPartitionCorpus object at 0x7f1...        1         300   \n",
       "4   [<__main__.WikiPartitionCorpus object at 0x7f1...        1         300   \n",
       "5   [<__main__.WikiPartitionCorpus object at 0x7f1...        1         300   \n",
       "6   [<__main__.WikiPartitionCorpus object at 0x7f1...        1         300   \n",
       "7   [<__main__.WikiPartitionCorpus object at 0x7f1...        1         300   \n",
       "8   [<__main__.WikiPartitionCorpus object at 0x7f1...        1         300   \n",
       "9   [<__main__.WikiPartitionCorpus object at 0x7f1...        1         300   \n",
       "10  [<__main__.WikiPartitionCorpus object at 0x7f1...        1         300   \n",
       "11  [<__main__.WikiPartitionCorpus object at 0x7f1...        1         300   \n",
       "12  [<__main__.WikiPartitionCorpus object at 0x7f1...        1         300   \n",
       "13  [<__main__.WikiPartitionCorpus object at 0x7f1...        1         300   \n",
       "\n",
       "                                        dset_fname  \\\n",
       "0   /media/vente/Data/text/normalized_deaccent.txt   \n",
       "1   /media/vente/Data/text/normalized_deaccent.txt   \n",
       "2   /media/vente/Data/text/normalized_deaccent.txt   \n",
       "3   /media/vente/Data/text/normalized_deaccent.txt   \n",
       "4   /media/vente/Data/text/normalized_deaccent.txt   \n",
       "5   /media/vente/Data/text/normalized_deaccent.txt   \n",
       "6   /media/vente/Data/text/normalized_deaccent.txt   \n",
       "7   /media/vente/Data/text/normalized_deaccent.txt   \n",
       "8   /media/vente/Data/text/normalized_deaccent.txt   \n",
       "9   /media/vente/Data/text/normalized_deaccent.txt   \n",
       "10  /media/vente/Data/text/normalized_deaccent.txt   \n",
       "11  /media/vente/Data/text/normalized_deaccent.txt   \n",
       "12  /media/vente/Data/text/normalized_deaccent.txt   \n",
       "13  /media/vente/Data/text/normalized_deaccent.txt   \n",
       "\n",
       "                                       gender_results  \\\n",
       "0                                             quer...   \n",
       "1                                             quer...   \n",
       "2                                             quer...   \n",
       "3                                             quer...   \n",
       "4                                             quer...   \n",
       "5                                             quer...   \n",
       "6                                             quer...   \n",
       "7                                             quer...   \n",
       "8                                             quer...   \n",
       "9                                             quer...   \n",
       "10                                            quer...   \n",
       "11                                            quer...   \n",
       "12                                            quer...   \n",
       "13                                            quer...   \n",
       "\n",
       "                                              analogy  \\\n",
       "0   (0.14285714285714285, [{'section': 'capital-co...   \n",
       "1   (0.2200675399099468, [{'section': 'capital-com...   \n",
       "2   (0.2396131805157593, [{'section': 'capital-com...   \n",
       "3   (0.25440032746623004, [{'section': 'capital-co...   \n",
       "4   (0.25644699140401145, [{'section': 'capital-co...   \n",
       "5   (0.2540933278755628, [{'section': 'capital-com...   \n",
       "6   (0.2527629963160049, [{'section': 'capital-com...   \n",
       "7   (0.2957941056078592, [{'section': 'capital-com...   \n",
       "8   (0.3055157593123209, [{'section': 'capital-com...   \n",
       "9   (0.2987106017191977, [{'section': 'capital-com...   \n",
       "10  (0.2848444535407286, [{'section': 'capital-com...   \n",
       "11  (0.2797277936962751, [{'section': 'capital-com...   \n",
       "12  (0.27235980352026196, [{'section': 'capital-co...   \n",
       "13  (0.26652681129758493, [{'section': 'capital-co...   \n",
       "\n",
       "                                             word_sim   car-fam  car-fam_p  \\\n",
       "0   ((0.4639922051294948, 3.0176848765016936e-20),...  0.078486   0.396160   \n",
       "1   ((0.608231743845395, 4.301838726844218e-37), (...  0.659264   0.095890   \n",
       "2   ((0.6549312088824, 1.2867268959048902e-44), (0...  0.898738   0.036996   \n",
       "3   ((0.6618509353377519, 7.569159815733687e-46), ...  1.083973   0.033097   \n",
       "4   ((0.6781126835811997, 7.151161053600646e-49), ...  0.990542   0.037496   \n",
       "5   ((0.6679120377062047, 5.943674019148265e-47), ...  0.993914   0.054795   \n",
       "6   ((0.676107711881724, 1.7290459722847042e-48), ...  1.247670   0.013599   \n",
       "7   ((0.4174206396228205, 2.573981787419274e-16), ...  0.164974   0.284872   \n",
       "8   ((0.521162025429367, 5.670974301519911e-26), (...  0.596126   0.046095   \n",
       "9   ((0.5649976572684519, 3.687848016247363e-31), ...  0.848319   0.025897   \n",
       "10  ((0.5985656042889136, 1.0933126049258807e-35),...  0.990298   0.012599   \n",
       "11  ((0.5929465499421315, 6.821192816239742e-35), ...  1.055480   0.015998   \n",
       "12  ((0.5815959972498207, 2.47354430277068e-33), (...  0.948339   0.020498   \n",
       "13  ((0.6008581515047121, 5.1264250782788866e-36),...  1.080267   0.012199   \n",
       "\n",
       "    math-art  math-art_p  \n",
       "0   0.179473    0.219078  \n",
       "1   0.602889    0.044496  \n",
       "2   0.697839    0.033197  \n",
       "3   0.749892    0.020798  \n",
       "4   1.069758    0.005299  \n",
       "5   0.796865    0.026597  \n",
       "6   0.824727    0.016598  \n",
       "7   0.084212    0.366563  \n",
       "8   0.237111    0.251575  \n",
       "9   0.528632    0.108689  \n",
       "10  0.418359    0.163984  \n",
       "11  0.563855    0.099490  \n",
       "12  0.707649    0.045895  \n",
       "13  0.305719    0.239876  "
      ],
      "text/html": "<div>\n<style scoped>\n    .dataframe tbody tr th:only-of-type {\n        vertical-align: middle;\n    }\n\n    .dataframe tbody tr th {\n        vertical-align: top;\n    }\n\n    .dataframe thead th {\n        text-align: right;\n    }\n</style>\n<table border=\"1\" class=\"dataframe\">\n  <thead>\n    <tr style=\"text-align: right;\">\n      <th></th>\n      <th>architecture</th>\n      <th>window_size</th>\n      <th>dataset</th>\n      <th>n_epochs</th>\n      <th>vector_dims</th>\n      <th>dset_fname</th>\n      <th>gender_results</th>\n      <th>analogy</th>\n      <th>word_sim</th>\n      <th>car-fam</th>\n      <th>car-fam_p</th>\n      <th>math-art</th>\n      <th>math-art_p</th>\n    </tr>\n  </thead>\n  <tbody>\n    <tr>\n      <th>0</th>\n      <td>&lt;class 'gensim.models.word2vec.Word2Vec'&gt;</td>\n      <td>1</td>\n      <td>[&lt;__main__.WikiPartitionCorpus object at 0x7f1...</td>\n      <td>1</td>\n      <td>300</td>\n      <td>/media/vente/Data/text/normalized_deaccent.txt</td>\n      <td>quer...</td>\n      <td>(0.14285714285714285, [{'section': 'capital-co...</td>\n      <td>((0.4639922051294948, 3.0176848765016936e-20),...</td>\n      <td>0.078486</td>\n      <td>0.396160</td>\n      <td>0.179473</td>\n      <td>0.219078</td>\n    </tr>\n    <tr>\n      <th>1</th>\n      <td>&lt;class 'gensim.models.word2vec.Word2Vec'&gt;</td>\n      <td>5</td>\n      <td>[&lt;__main__.WikiPartitionCorpus object at 0x7f1...</td>\n      <td>1</td>\n      <td>300</td>\n      <td>/media/vente/Data/text/normalized_deaccent.txt</td>\n      <td>quer...</td>\n      <td>(0.2200675399099468, [{'section': 'capital-com...</td>\n      <td>((0.608231743845395, 4.301838726844218e-37), (...</td>\n      <td>0.659264</td>\n      <td>0.095890</td>\n      <td>0.602889</td>\n      <td>0.044496</td>\n    </tr>\n    <tr>\n      <th>2</th>\n      <td>&lt;class 'gensim.models.word2vec.Word2Vec'&gt;</td>\n      <td>10</td>\n      <td>[&lt;__main__.WikiPartitionCorpus object at 0x7f1...</td>\n      <td>1</td>\n      <td>300</td>\n      <td>/media/vente/Data/text/normalized_deaccent.txt</td>\n      <td>quer...</td>\n      <td>(0.2396131805157593, [{'section': 'capital-com...</td>\n      <td>((0.6549312088824, 1.2867268959048902e-44), (0...</td>\n      <td>0.898738</td>\n      <td>0.036996</td>\n      <td>0.697839</td>\n      <td>0.033197</td>\n    </tr>\n    <tr>\n      <th>3</th>\n      <td>&lt;class 'gensim.models.word2vec.Word2Vec'&gt;</td>\n      <td>15</td>\n      <td>[&lt;__main__.WikiPartitionCorpus object at 0x7f1...</td>\n      <td>1</td>\n      <td>300</td>\n      <td>/media/vente/Data/text/normalized_deaccent.txt</td>\n      <td>quer...</td>\n      <td>(0.25440032746623004, [{'section': 'capital-co...</td>\n      <td>((0.6618509353377519, 7.569159815733687e-46), ...</td>\n      <td>1.083973</td>\n      <td>0.033097</td>\n      <td>0.749892</td>\n      <td>0.020798</td>\n    </tr>\n    <tr>\n      <th>4</th>\n      <td>&lt;class 'gensim.models.word2vec.Word2Vec'&gt;</td>\n      <td>20</td>\n      <td>[&lt;__main__.WikiPartitionCorpus object at 0x7f1...</td>\n      <td>1</td>\n      <td>300</td>\n      <td>/media/vente/Data/text/normalized_deaccent.txt</td>\n      <td>quer...</td>\n      <td>(0.25644699140401145, [{'section': 'capital-co...</td>\n      <td>((0.6781126835811997, 7.151161053600646e-49), ...</td>\n      <td>0.990542</td>\n      <td>0.037496</td>\n      <td>1.069758</td>\n      <td>0.005299</td>\n    </tr>\n    <tr>\n      <th>5</th>\n      <td>&lt;class 'gensim.models.word2vec.Word2Vec'&gt;</td>\n      <td>25</td>\n      <td>[&lt;__main__.WikiPartitionCorpus object at 0x7f1...</td>\n      <td>1</td>\n      <td>300</td>\n      <td>/media/vente/Data/text/normalized_deaccent.txt</td>\n      <td>quer...</td>\n      <td>(0.2540933278755628, [{'section': 'capital-com...</td>\n      <td>((0.6679120377062047, 5.943674019148265e-47), ...</td>\n      <td>0.993914</td>\n      <td>0.054795</td>\n      <td>0.796865</td>\n      <td>0.026597</td>\n    </tr>\n    <tr>\n      <th>6</th>\n      <td>&lt;class 'gensim.models.word2vec.Word2Vec'&gt;</td>\n      <td>30</td>\n      <td>[&lt;__main__.WikiPartitionCorpus object at 0x7f1...</td>\n      <td>1</td>\n      <td>300</td>\n      <td>/media/vente/Data/text/normalized_deaccent.txt</td>\n      <td>quer...</td>\n      <td>(0.2527629963160049, [{'section': 'capital-com...</td>\n      <td>((0.676107711881724, 1.7290459722847042e-48), ...</td>\n      <td>1.247670</td>\n      <td>0.013599</td>\n      <td>0.824727</td>\n      <td>0.016598</td>\n    </tr>\n    <tr>\n      <th>7</th>\n      <td>&lt;class 'gensim.models.fasttext.FastText'&gt;</td>\n      <td>1</td>\n      <td>[&lt;__main__.WikiPartitionCorpus object at 0x7f1...</td>\n      <td>1</td>\n      <td>300</td>\n      <td>/media/vente/Data/text/normalized_deaccent.txt</td>\n      <td>quer...</td>\n      <td>(0.2957941056078592, [{'section': 'capital-com...</td>\n      <td>((0.4174206396228205, 2.573981787419274e-16), ...</td>\n      <td>0.164974</td>\n      <td>0.284872</td>\n      <td>0.084212</td>\n      <td>0.366563</td>\n    </tr>\n    <tr>\n      <th>8</th>\n      <td>&lt;class 'gensim.models.fasttext.FastText'&gt;</td>\n      <td>5</td>\n      <td>[&lt;__main__.WikiPartitionCorpus object at 0x7f1...</td>\n      <td>1</td>\n      <td>300</td>\n      <td>/media/vente/Data/text/normalized_deaccent.txt</td>\n      <td>quer...</td>\n      <td>(0.3055157593123209, [{'section': 'capital-com...</td>\n      <td>((0.521162025429367, 5.670974301519911e-26), (...</td>\n      <td>0.596126</td>\n      <td>0.046095</td>\n      <td>0.237111</td>\n      <td>0.251575</td>\n    </tr>\n    <tr>\n      <th>9</th>\n      <td>&lt;class 'gensim.models.fasttext.FastText'&gt;</td>\n      <td>10</td>\n      <td>[&lt;__main__.WikiPartitionCorpus object at 0x7f1...</td>\n      <td>1</td>\n      <td>300</td>\n      <td>/media/vente/Data/text/normalized_deaccent.txt</td>\n      <td>quer...</td>\n      <td>(0.2987106017191977, [{'section': 'capital-com...</td>\n      <td>((0.5649976572684519, 3.687848016247363e-31), ...</td>\n      <td>0.848319</td>\n      <td>0.025897</td>\n      <td>0.528632</td>\n      <td>0.108689</td>\n    </tr>\n    <tr>\n      <th>10</th>\n      <td>&lt;class 'gensim.models.fasttext.FastText'&gt;</td>\n      <td>15</td>\n      <td>[&lt;__main__.WikiPartitionCorpus object at 0x7f1...</td>\n      <td>1</td>\n      <td>300</td>\n      <td>/media/vente/Data/text/normalized_deaccent.txt</td>\n      <td>quer...</td>\n      <td>(0.2848444535407286, [{'section': 'capital-com...</td>\n      <td>((0.5985656042889136, 1.0933126049258807e-35),...</td>\n      <td>0.990298</td>\n      <td>0.012599</td>\n      <td>0.418359</td>\n      <td>0.163984</td>\n    </tr>\n    <tr>\n      <th>11</th>\n      <td>&lt;class 'gensim.models.fasttext.FastText'&gt;</td>\n      <td>20</td>\n      <td>[&lt;__main__.WikiPartitionCorpus object at 0x7f1...</td>\n      <td>1</td>\n      <td>300</td>\n      <td>/media/vente/Data/text/normalized_deaccent.txt</td>\n      <td>quer...</td>\n      <td>(0.2797277936962751, [{'section': 'capital-com...</td>\n      <td>((0.5929465499421315, 6.821192816239742e-35), ...</td>\n      <td>1.055480</td>\n      <td>0.015998</td>\n      <td>0.563855</td>\n      <td>0.099490</td>\n    </tr>\n    <tr>\n      <th>12</th>\n      <td>&lt;class 'gensim.models.fasttext.FastText'&gt;</td>\n      <td>25</td>\n      <td>[&lt;__main__.WikiPartitionCorpus object at 0x7f1...</td>\n      <td>1</td>\n      <td>300</td>\n      <td>/media/vente/Data/text/normalized_deaccent.txt</td>\n      <td>quer...</td>\n      <td>(0.27235980352026196, [{'section': 'capital-co...</td>\n      <td>((0.5815959972498207, 2.47354430277068e-33), (...</td>\n      <td>0.948339</td>\n      <td>0.020498</td>\n      <td>0.707649</td>\n      <td>0.045895</td>\n    </tr>\n    <tr>\n      <th>13</th>\n      <td>&lt;class 'gensim.models.fasttext.FastText'&gt;</td>\n      <td>30</td>\n      <td>[&lt;__main__.WikiPartitionCorpus object at 0x7f1...</td>\n      <td>1</td>\n      <td>300</td>\n      <td>/media/vente/Data/text/normalized_deaccent.txt</td>\n      <td>quer...</td>\n      <td>(0.26652681129758493, [{'section': 'capital-co...</td>\n      <td>((0.6008581515047121, 5.1264250782788866e-36),...</td>\n      <td>1.080267</td>\n      <td>0.012199</td>\n      <td>0.305719</td>\n      <td>0.239876</td>\n    </tr>\n  </tbody>\n</table>\n</div>"
     },
     "metadata": {},
     "execution_count": 4
    }
   ],
   "source": [
    "df['gender_results'].map(display)\n",
    "query_types = ['car-fam', 'math-art']\n",
    "for i, query_type in zip([0,2], query_types):\n",
    "    df[query_type] = df['gender_results'].map(lambda x: x['weat'][i])\n",
    "    df[query_type+'_p'] = df['gender_results'].map(lambda x: x['p_value'][i])\n",
    "df"
   ]
  },
  {
   "cell_type": "code",
   "execution_count": 13,
   "metadata": {
    "tags": []
   },
   "outputs": [
    {
     "output_type": "stream",
     "name": "stderr",
     "text": [
      "<ipython-input-13-103c68cbf333>:6: UserWarning: Matplotlib is currently using pgf, which is a non-GUI backend, so cannot show the figure.\n  plt.show()\n"
     ]
    }
   ],
   "source": [
    "fig, ax = plt.subplots()\n",
    "for label, _df in df.groupby('architecture'):\n",
    "    _df[['car-fam','window_size']].set_index([\"window_size\"]).plot(ax=ax, ylabel='WEAT Career-Family', xlabel=\"Window Size\")\n",
    "_ = ax.legend(['Word2Vec','FastText'])\n",
    "plt.savefig(\"car-fam_x_window_size_2010.pdf\")"
   ]
  },
  {
   "cell_type": "code",
   "execution_count": 6,
   "metadata": {},
   "outputs": [
    {
     "output_type": "execute_result",
     "data": {
      "text/plain": [
       "<matplotlib.legend.Legend at 0x7f28da9dc700>"
      ]
     },
     "metadata": {},
     "execution_count": 6
    }
   ],
   "source": [
    "fig, ax = plt.subplots()\n",
    "for label, _df in df.groupby('architecture'):\n",
    "    _df[['math-art','window_size']].set_index([\"window_size\"]).plot(ax=ax, ylabel='WEAT Math-Art', xlabel=\"Window Size\")\n",
    "ax.legend(['Word2Vec','FastText'])"
   ]
  },
  {
   "cell_type": "code",
   "execution_count": 7,
   "metadata": {},
   "outputs": [],
   "source": [
    "df['analogy_s'] = df['analogy'].map(lambda x: x[0] if x is not None else None)\n"
   ]
  },
  {
   "cell_type": "code",
   "execution_count": 8,
   "metadata": {},
   "outputs": [
    {
     "output_type": "execute_result",
     "data": {
      "text/plain": [
       "<matplotlib.legend.Legend at 0x7f28da9aa910>"
      ]
     },
     "metadata": {},
     "execution_count": 8
    }
   ],
   "source": [
    "fig, ax = plt.subplots()\n",
    "for label, _df in df.groupby('architecture'):\n",
    "    label = \"Word2Vec\" if \"Word2Vec\" in label else \"FastText\"\n",
    "    _df[['analogy_s','window_size']].set_index([\"window_size\"]).plot(ax=ax, xlabel=\"Window Size\", ylabel=\"Analogy Accuracy\")\n",
    "ax.legend(['Word2Vec','FastText'])"
   ]
  },
  {
   "cell_type": "code",
   "execution_count": 9,
   "metadata": {},
   "outputs": [
    {
     "output_type": "execute_result",
     "data": {
      "text/plain": [
       "<matplotlib.legend.Legend at 0x7f28da979670>"
      ]
     },
     "metadata": {},
     "execution_count": 9
    }
   ],
   "source": [
    "fig, ax = plt.subplots()\n",
    "\n",
    "for label, _df in df.groupby('architecture'):\n",
    "    sns.regplot(\n",
    "        x=_df['math-art'].rename(\"Male-Female wrt Math Art\"),\n",
    "        y=_df['analogy_s'].rename(\"Analogy Accuracy\"))\n",
    "ax.legend(['Word2Vec','FastText'])"
   ]
  },
  {
   "cell_type": "code",
   "execution_count": 10,
   "metadata": {},
   "outputs": [
    {
     "output_type": "execute_result",
     "data": {
      "text/plain": [
       "<matplotlib.legend.Legend at 0x7f28da9a6730>"
      ]
     },
     "metadata": {},
     "execution_count": 10
    }
   ],
   "source": [
    "fig, ax = plt.subplots()\n",
    "df['wordsim_s'] = df['word_sim'].map(lambda x: x[0][0] if x is not None else None)\n",
    "\n",
    "for label, _df in df.groupby('architecture'):\n",
    "    sns.regplot(\n",
    "        x=_df['car-fam'].rename(\"Male-Female wrt Career Family\"),\n",
    "        y=_df['wordsim_s'].rename(\"Word Similarity Benchmark\"))\n",
    "ax.legend(['Word2Vec','FastText'])"
   ]
  },
  {
   "cell_type": "code",
   "execution_count": 11,
   "metadata": {},
   "outputs": [
    {
     "output_type": "execute_result",
     "data": {
      "text/plain": [
       "<matplotlib.legend.Legend at 0x7f28da899fa0>"
      ]
     },
     "metadata": {},
     "execution_count": 11
    }
   ],
   "source": [
    "fig, ax = plt.subplots()\n",
    "for label, _df in df.groupby('architecture'):\n",
    "    label = \"Word2Vec\" if \"Word2Vec\" in label else \"FastText\"\n",
    "    _df[['wordsim_s','window_size']].set_index([\"window_size\"]).plot(ax=ax, xlabel=\"Window Size\", ylabel=\"Word Similarity Correlation\")\n",
    "ax.legend(['Word2Vec','FastText'])"
   ]
  },
  {
   "cell_type": "code",
   "execution_count": 12,
   "metadata": {},
   "outputs": [
    {
     "output_type": "execute_result",
     "data": {
      "text/plain": [
       "                                 architecture window_size  \\\n",
       "0   <class 'gensim.models.word2vec.Word2Vec'>           1   \n",
       "1   <class 'gensim.models.word2vec.Word2Vec'>           5   \n",
       "2   <class 'gensim.models.word2vec.Word2Vec'>          10   \n",
       "3   <class 'gensim.models.word2vec.Word2Vec'>          15   \n",
       "4   <class 'gensim.models.word2vec.Word2Vec'>          20   \n",
       "5   <class 'gensim.models.word2vec.Word2Vec'>          25   \n",
       "6   <class 'gensim.models.word2vec.Word2Vec'>          30   \n",
       "7   <class 'gensim.models.fasttext.FastText'>           1   \n",
       "8   <class 'gensim.models.fasttext.FastText'>           5   \n",
       "9   <class 'gensim.models.fasttext.FastText'>          10   \n",
       "10  <class 'gensim.models.fasttext.FastText'>          15   \n",
       "11  <class 'gensim.models.fasttext.FastText'>          20   \n",
       "12  <class 'gensim.models.fasttext.FastText'>          25   \n",
       "13  <class 'gensim.models.fasttext.FastText'>          30   \n",
       "\n",
       "                                              dataset n_epochs vector_dims  \\\n",
       "0   [<__main__.WikiPartitionCorpus object at 0x7f1...        1         300   \n",
       "1   [<__main__.WikiPartitionCorpus object at 0x7f1...        1         300   \n",
       "2   [<__main__.WikiPartitionCorpus object at 0x7f1...        1         300   \n",
       "3   [<__main__.WikiPartitionCorpus object at 0x7f1...        1         300   \n",
       "4   [<__main__.WikiPartitionCorpus object at 0x7f1...        1         300   \n",
       "5   [<__main__.WikiPartitionCorpus object at 0x7f1...        1         300   \n",
       "6   [<__main__.WikiPartitionCorpus object at 0x7f1...        1         300   \n",
       "7   [<__main__.WikiPartitionCorpus object at 0x7f1...        1         300   \n",
       "8   [<__main__.WikiPartitionCorpus object at 0x7f1...        1         300   \n",
       "9   [<__main__.WikiPartitionCorpus object at 0x7f1...        1         300   \n",
       "10  [<__main__.WikiPartitionCorpus object at 0x7f1...        1         300   \n",
       "11  [<__main__.WikiPartitionCorpus object at 0x7f1...        1         300   \n",
       "12  [<__main__.WikiPartitionCorpus object at 0x7f1...        1         300   \n",
       "13  [<__main__.WikiPartitionCorpus object at 0x7f1...        1         300   \n",
       "\n",
       "                                        dset_fname  \\\n",
       "0   /media/vente/Data/text/normalized_deaccent.txt   \n",
       "1   /media/vente/Data/text/normalized_deaccent.txt   \n",
       "2   /media/vente/Data/text/normalized_deaccent.txt   \n",
       "3   /media/vente/Data/text/normalized_deaccent.txt   \n",
       "4   /media/vente/Data/text/normalized_deaccent.txt   \n",
       "5   /media/vente/Data/text/normalized_deaccent.txt   \n",
       "6   /media/vente/Data/text/normalized_deaccent.txt   \n",
       "7   /media/vente/Data/text/normalized_deaccent.txt   \n",
       "8   /media/vente/Data/text/normalized_deaccent.txt   \n",
       "9   /media/vente/Data/text/normalized_deaccent.txt   \n",
       "10  /media/vente/Data/text/normalized_deaccent.txt   \n",
       "11  /media/vente/Data/text/normalized_deaccent.txt   \n",
       "12  /media/vente/Data/text/normalized_deaccent.txt   \n",
       "13  /media/vente/Data/text/normalized_deaccent.txt   \n",
       "\n",
       "                                       gender_results  \\\n",
       "0                                             quer...   \n",
       "1                                             quer...   \n",
       "2                                             quer...   \n",
       "3                                             quer...   \n",
       "4                                             quer...   \n",
       "5                                             quer...   \n",
       "6                                             quer...   \n",
       "7                                             quer...   \n",
       "8                                             quer...   \n",
       "9                                             quer...   \n",
       "10                                            quer...   \n",
       "11                                            quer...   \n",
       "12                                            quer...   \n",
       "13                                            quer...   \n",
       "\n",
       "                                              analogy  \\\n",
       "0   (0.14285714285714285, [{'section': 'capital-co...   \n",
       "1   (0.2200675399099468, [{'section': 'capital-com...   \n",
       "2   (0.2396131805157593, [{'section': 'capital-com...   \n",
       "3   (0.25440032746623004, [{'section': 'capital-co...   \n",
       "4   (0.25644699140401145, [{'section': 'capital-co...   \n",
       "5   (0.2540933278755628, [{'section': 'capital-com...   \n",
       "6   (0.2527629963160049, [{'section': 'capital-com...   \n",
       "7   (0.2957941056078592, [{'section': 'capital-com...   \n",
       "8   (0.3055157593123209, [{'section': 'capital-com...   \n",
       "9   (0.2987106017191977, [{'section': 'capital-com...   \n",
       "10  (0.2848444535407286, [{'section': 'capital-com...   \n",
       "11  (0.2797277936962751, [{'section': 'capital-com...   \n",
       "12  (0.27235980352026196, [{'section': 'capital-co...   \n",
       "13  (0.26652681129758493, [{'section': 'capital-co...   \n",
       "\n",
       "                                             word_sim   car-fam  car-fam_p  \\\n",
       "0   ((0.4639922051294948, 3.0176848765016936e-20),...  0.078486   0.396160   \n",
       "1   ((0.608231743845395, 4.301838726844218e-37), (...  0.659264   0.095890   \n",
       "2   ((0.6549312088824, 1.2867268959048902e-44), (0...  0.898738   0.036996   \n",
       "3   ((0.6618509353377519, 7.569159815733687e-46), ...  1.083973   0.033097   \n",
       "4   ((0.6781126835811997, 7.151161053600646e-49), ...  0.990542   0.037496   \n",
       "5   ((0.6679120377062047, 5.943674019148265e-47), ...  0.993914   0.054795   \n",
       "6   ((0.676107711881724, 1.7290459722847042e-48), ...  1.247670   0.013599   \n",
       "7   ((0.4174206396228205, 2.573981787419274e-16), ...  0.164974   0.284872   \n",
       "8   ((0.521162025429367, 5.670974301519911e-26), (...  0.596126   0.046095   \n",
       "9   ((0.5649976572684519, 3.687848016247363e-31), ...  0.848319   0.025897   \n",
       "10  ((0.5985656042889136, 1.0933126049258807e-35),...  0.990298   0.012599   \n",
       "11  ((0.5929465499421315, 6.821192816239742e-35), ...  1.055480   0.015998   \n",
       "12  ((0.5815959972498207, 2.47354430277068e-33), (...  0.948339   0.020498   \n",
       "13  ((0.6008581515047121, 5.1264250782788866e-36),...  1.080267   0.012199   \n",
       "\n",
       "    math-art  math-art_p  analogy_s  wordsim_s  \n",
       "0   0.179473    0.219078   0.142857   0.463992  \n",
       "1   0.602889    0.044496   0.220068   0.608232  \n",
       "2   0.697839    0.033197   0.239613   0.654931  \n",
       "3   0.749892    0.020798   0.254400   0.661851  \n",
       "4   1.069758    0.005299   0.256447   0.678113  \n",
       "5   0.796865    0.026597   0.254093   0.667912  \n",
       "6   0.824727    0.016598   0.252763   0.676108  \n",
       "7   0.084212    0.366563   0.295794   0.417421  \n",
       "8   0.237111    0.251575   0.305516   0.521162  \n",
       "9   0.528632    0.108689   0.298711   0.564998  \n",
       "10  0.418359    0.163984   0.284844   0.598566  \n",
       "11  0.563855    0.099490   0.279728   0.592947  \n",
       "12  0.707649    0.045895   0.272360   0.581596  \n",
       "13  0.305719    0.239876   0.266527   0.600858  "
      ],
      "text/html": "<div>\n<style scoped>\n    .dataframe tbody tr th:only-of-type {\n        vertical-align: middle;\n    }\n\n    .dataframe tbody tr th {\n        vertical-align: top;\n    }\n\n    .dataframe thead th {\n        text-align: right;\n    }\n</style>\n<table border=\"1\" class=\"dataframe\">\n  <thead>\n    <tr style=\"text-align: right;\">\n      <th></th>\n      <th>architecture</th>\n      <th>window_size</th>\n      <th>dataset</th>\n      <th>n_epochs</th>\n      <th>vector_dims</th>\n      <th>dset_fname</th>\n      <th>gender_results</th>\n      <th>analogy</th>\n      <th>word_sim</th>\n      <th>car-fam</th>\n      <th>car-fam_p</th>\n      <th>math-art</th>\n      <th>math-art_p</th>\n      <th>analogy_s</th>\n      <th>wordsim_s</th>\n    </tr>\n  </thead>\n  <tbody>\n    <tr>\n      <th>0</th>\n      <td>&lt;class 'gensim.models.word2vec.Word2Vec'&gt;</td>\n      <td>1</td>\n      <td>[&lt;__main__.WikiPartitionCorpus object at 0x7f1...</td>\n      <td>1</td>\n      <td>300</td>\n      <td>/media/vente/Data/text/normalized_deaccent.txt</td>\n      <td>quer...</td>\n      <td>(0.14285714285714285, [{'section': 'capital-co...</td>\n      <td>((0.4639922051294948, 3.0176848765016936e-20),...</td>\n      <td>0.078486</td>\n      <td>0.396160</td>\n      <td>0.179473</td>\n      <td>0.219078</td>\n      <td>0.142857</td>\n      <td>0.463992</td>\n    </tr>\n    <tr>\n      <th>1</th>\n      <td>&lt;class 'gensim.models.word2vec.Word2Vec'&gt;</td>\n      <td>5</td>\n      <td>[&lt;__main__.WikiPartitionCorpus object at 0x7f1...</td>\n      <td>1</td>\n      <td>300</td>\n      <td>/media/vente/Data/text/normalized_deaccent.txt</td>\n      <td>quer...</td>\n      <td>(0.2200675399099468, [{'section': 'capital-com...</td>\n      <td>((0.608231743845395, 4.301838726844218e-37), (...</td>\n      <td>0.659264</td>\n      <td>0.095890</td>\n      <td>0.602889</td>\n      <td>0.044496</td>\n      <td>0.220068</td>\n      <td>0.608232</td>\n    </tr>\n    <tr>\n      <th>2</th>\n      <td>&lt;class 'gensim.models.word2vec.Word2Vec'&gt;</td>\n      <td>10</td>\n      <td>[&lt;__main__.WikiPartitionCorpus object at 0x7f1...</td>\n      <td>1</td>\n      <td>300</td>\n      <td>/media/vente/Data/text/normalized_deaccent.txt</td>\n      <td>quer...</td>\n      <td>(0.2396131805157593, [{'section': 'capital-com...</td>\n      <td>((0.6549312088824, 1.2867268959048902e-44), (0...</td>\n      <td>0.898738</td>\n      <td>0.036996</td>\n      <td>0.697839</td>\n      <td>0.033197</td>\n      <td>0.239613</td>\n      <td>0.654931</td>\n    </tr>\n    <tr>\n      <th>3</th>\n      <td>&lt;class 'gensim.models.word2vec.Word2Vec'&gt;</td>\n      <td>15</td>\n      <td>[&lt;__main__.WikiPartitionCorpus object at 0x7f1...</td>\n      <td>1</td>\n      <td>300</td>\n      <td>/media/vente/Data/text/normalized_deaccent.txt</td>\n      <td>quer...</td>\n      <td>(0.25440032746623004, [{'section': 'capital-co...</td>\n      <td>((0.6618509353377519, 7.569159815733687e-46), ...</td>\n      <td>1.083973</td>\n      <td>0.033097</td>\n      <td>0.749892</td>\n      <td>0.020798</td>\n      <td>0.254400</td>\n      <td>0.661851</td>\n    </tr>\n    <tr>\n      <th>4</th>\n      <td>&lt;class 'gensim.models.word2vec.Word2Vec'&gt;</td>\n      <td>20</td>\n      <td>[&lt;__main__.WikiPartitionCorpus object at 0x7f1...</td>\n      <td>1</td>\n      <td>300</td>\n      <td>/media/vente/Data/text/normalized_deaccent.txt</td>\n      <td>quer...</td>\n      <td>(0.25644699140401145, [{'section': 'capital-co...</td>\n      <td>((0.6781126835811997, 7.151161053600646e-49), ...</td>\n      <td>0.990542</td>\n      <td>0.037496</td>\n      <td>1.069758</td>\n      <td>0.005299</td>\n      <td>0.256447</td>\n      <td>0.678113</td>\n    </tr>\n    <tr>\n      <th>5</th>\n      <td>&lt;class 'gensim.models.word2vec.Word2Vec'&gt;</td>\n      <td>25</td>\n      <td>[&lt;__main__.WikiPartitionCorpus object at 0x7f1...</td>\n      <td>1</td>\n      <td>300</td>\n      <td>/media/vente/Data/text/normalized_deaccent.txt</td>\n      <td>quer...</td>\n      <td>(0.2540933278755628, [{'section': 'capital-com...</td>\n      <td>((0.6679120377062047, 5.943674019148265e-47), ...</td>\n      <td>0.993914</td>\n      <td>0.054795</td>\n      <td>0.796865</td>\n      <td>0.026597</td>\n      <td>0.254093</td>\n      <td>0.667912</td>\n    </tr>\n    <tr>\n      <th>6</th>\n      <td>&lt;class 'gensim.models.word2vec.Word2Vec'&gt;</td>\n      <td>30</td>\n      <td>[&lt;__main__.WikiPartitionCorpus object at 0x7f1...</td>\n      <td>1</td>\n      <td>300</td>\n      <td>/media/vente/Data/text/normalized_deaccent.txt</td>\n      <td>quer...</td>\n      <td>(0.2527629963160049, [{'section': 'capital-com...</td>\n      <td>((0.676107711881724, 1.7290459722847042e-48), ...</td>\n      <td>1.247670</td>\n      <td>0.013599</td>\n      <td>0.824727</td>\n      <td>0.016598</td>\n      <td>0.252763</td>\n      <td>0.676108</td>\n    </tr>\n    <tr>\n      <th>7</th>\n      <td>&lt;class 'gensim.models.fasttext.FastText'&gt;</td>\n      <td>1</td>\n      <td>[&lt;__main__.WikiPartitionCorpus object at 0x7f1...</td>\n      <td>1</td>\n      <td>300</td>\n      <td>/media/vente/Data/text/normalized_deaccent.txt</td>\n      <td>quer...</td>\n      <td>(0.2957941056078592, [{'section': 'capital-com...</td>\n      <td>((0.4174206396228205, 2.573981787419274e-16), ...</td>\n      <td>0.164974</td>\n      <td>0.284872</td>\n      <td>0.084212</td>\n      <td>0.366563</td>\n      <td>0.295794</td>\n      <td>0.417421</td>\n    </tr>\n    <tr>\n      <th>8</th>\n      <td>&lt;class 'gensim.models.fasttext.FastText'&gt;</td>\n      <td>5</td>\n      <td>[&lt;__main__.WikiPartitionCorpus object at 0x7f1...</td>\n      <td>1</td>\n      <td>300</td>\n      <td>/media/vente/Data/text/normalized_deaccent.txt</td>\n      <td>quer...</td>\n      <td>(0.3055157593123209, [{'section': 'capital-com...</td>\n      <td>((0.521162025429367, 5.670974301519911e-26), (...</td>\n      <td>0.596126</td>\n      <td>0.046095</td>\n      <td>0.237111</td>\n      <td>0.251575</td>\n      <td>0.305516</td>\n      <td>0.521162</td>\n    </tr>\n    <tr>\n      <th>9</th>\n      <td>&lt;class 'gensim.models.fasttext.FastText'&gt;</td>\n      <td>10</td>\n      <td>[&lt;__main__.WikiPartitionCorpus object at 0x7f1...</td>\n      <td>1</td>\n      <td>300</td>\n      <td>/media/vente/Data/text/normalized_deaccent.txt</td>\n      <td>quer...</td>\n      <td>(0.2987106017191977, [{'section': 'capital-com...</td>\n      <td>((0.5649976572684519, 3.687848016247363e-31), ...</td>\n      <td>0.848319</td>\n      <td>0.025897</td>\n      <td>0.528632</td>\n      <td>0.108689</td>\n      <td>0.298711</td>\n      <td>0.564998</td>\n    </tr>\n    <tr>\n      <th>10</th>\n      <td>&lt;class 'gensim.models.fasttext.FastText'&gt;</td>\n      <td>15</td>\n      <td>[&lt;__main__.WikiPartitionCorpus object at 0x7f1...</td>\n      <td>1</td>\n      <td>300</td>\n      <td>/media/vente/Data/text/normalized_deaccent.txt</td>\n      <td>quer...</td>\n      <td>(0.2848444535407286, [{'section': 'capital-com...</td>\n      <td>((0.5985656042889136, 1.0933126049258807e-35),...</td>\n      <td>0.990298</td>\n      <td>0.012599</td>\n      <td>0.418359</td>\n      <td>0.163984</td>\n      <td>0.284844</td>\n      <td>0.598566</td>\n    </tr>\n    <tr>\n      <th>11</th>\n      <td>&lt;class 'gensim.models.fasttext.FastText'&gt;</td>\n      <td>20</td>\n      <td>[&lt;__main__.WikiPartitionCorpus object at 0x7f1...</td>\n      <td>1</td>\n      <td>300</td>\n      <td>/media/vente/Data/text/normalized_deaccent.txt</td>\n      <td>quer...</td>\n      <td>(0.2797277936962751, [{'section': 'capital-com...</td>\n      <td>((0.5929465499421315, 6.821192816239742e-35), ...</td>\n      <td>1.055480</td>\n      <td>0.015998</td>\n      <td>0.563855</td>\n      <td>0.099490</td>\n      <td>0.279728</td>\n      <td>0.592947</td>\n    </tr>\n    <tr>\n      <th>12</th>\n      <td>&lt;class 'gensim.models.fasttext.FastText'&gt;</td>\n      <td>25</td>\n      <td>[&lt;__main__.WikiPartitionCorpus object at 0x7f1...</td>\n      <td>1</td>\n      <td>300</td>\n      <td>/media/vente/Data/text/normalized_deaccent.txt</td>\n      <td>quer...</td>\n      <td>(0.27235980352026196, [{'section': 'capital-co...</td>\n      <td>((0.5815959972498207, 2.47354430277068e-33), (...</td>\n      <td>0.948339</td>\n      <td>0.020498</td>\n      <td>0.707649</td>\n      <td>0.045895</td>\n      <td>0.272360</td>\n      <td>0.581596</td>\n    </tr>\n    <tr>\n      <th>13</th>\n      <td>&lt;class 'gensim.models.fasttext.FastText'&gt;</td>\n      <td>30</td>\n      <td>[&lt;__main__.WikiPartitionCorpus object at 0x7f1...</td>\n      <td>1</td>\n      <td>300</td>\n      <td>/media/vente/Data/text/normalized_deaccent.txt</td>\n      <td>quer...</td>\n      <td>(0.26652681129758493, [{'section': 'capital-co...</td>\n      <td>((0.6008581515047121, 5.1264250782788866e-36),...</td>\n      <td>1.080267</td>\n      <td>0.012199</td>\n      <td>0.305719</td>\n      <td>0.239876</td>\n      <td>0.266527</td>\n      <td>0.600858</td>\n    </tr>\n  </tbody>\n</table>\n</div>"
     },
     "metadata": {},
     "execution_count": 12
    }
   ],
   "source": [
    "df"
   ]
  },
  {
   "cell_type": "code",
   "execution_count": null,
   "metadata": {},
   "outputs": [],
   "source": []
  }
 ]
}